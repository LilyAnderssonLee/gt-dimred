{
 "cells": [
  {
   "cell_type": "markdown",
   "metadata": {},
   "source": [
    "# Test animation code\n",
    "Plot a thousand arrays and SEE COOL THINGS"
   ]
  },
  {
   "cell_type": "code",
   "execution_count": 19,
   "metadata": {
    "collapsed": true
   },
   "outputs": [],
   "source": [
    "import matplotlib.pyplot as plt\n",
    "\n",
    "import collections\n",
    "import imageio\n",
    "import numpy as np\n",
    "import os\n",
    "import time\n",
    "\n",
    "from collections import defaultdict"
   ]
  },
  {
   "cell_type": "markdown",
   "metadata": {},
   "source": [
    "General format for the code below:\n",
    "* Loop through files (skipping directories)\n",
    "* Create images from projections\n",
    "* Create movies from images"
   ]
  },
  {
   "cell_type": "markdown",
   "metadata": {},
   "source": [
    "# 1000G animation"
   ]
  },
  {
   "cell_type": "code",
   "execution_count": 20,
   "metadata": {
    "collapsed": true
   },
   "outputs": [],
   "source": [
    "%store -r continents\n",
    "%store -r pop_by_continent\n",
    "%store -r pop\n",
    "%store -r indices_of_population_members\n",
    "%store -r name_by_code\n",
    "%store -r continent_by_population\n",
    "%store -r individuals\n",
    "%store -r population_by_individual\n",
    "%store -r individuals_by_population\n",
    "%store -r populations\n",
    "%store -r color_dict"
   ]
  },
  {
   "cell_type": "code",
   "execution_count": 11,
   "metadata": {
    "collapsed": true
   },
   "outputs": [],
   "source": [
    "parent_dir = '/Volumes/Stockage/alex/ukbb_anim'\n",
    "data_dir = os.path.join(parent_dir, 'Data')\n",
    "movie_dir = os.path.join(parent_dir, 'Movie')\n",
    "img_dir = os.path.join(parent_dir, '/Images/Labelled_20_by_20_2PCs')"
   ]
  },
  {
   "cell_type": "code",
   "execution_count": 10,
   "metadata": {
    "collapsed": true
   },
   "outputs": [
    {
     "ename": "NameError",
     "evalue": "name 'continents' is not defined",
     "output_type": "error",
     "traceback": [
      "\u001b[0;31m---------------------------------------------------------------------------\u001b[0m",
      "\u001b[0;31mNameError\u001b[0m                                 Traceback (most recent call last)",
      "\u001b[0;32m<ipython-input-10-50ea11358c97>\u001b[0m in \u001b[0;36m<module>\u001b[0;34m()\u001b[0m\n\u001b[1;32m      9\u001b[0m     \u001b[0mtemp_array\u001b[0m \u001b[0;34m=\u001b[0m \u001b[0mnp\u001b[0m\u001b[0;34m.\u001b[0m\u001b[0mloadtxt\u001b[0m\u001b[0;34m(\u001b[0m\u001b[0mos\u001b[0m\u001b[0;34m.\u001b[0m\u001b[0mpath\u001b[0m\u001b[0;34m.\u001b[0m\u001b[0mjoin\u001b[0m\u001b[0;34m(\u001b[0m\u001b[0mdata_dir\u001b[0m\u001b[0;34m,\u001b[0m\u001b[0mfile\u001b[0m\u001b[0;34m)\u001b[0m\u001b[0;34m)\u001b[0m\u001b[0;34m\u001b[0m\u001b[0m\n\u001b[1;32m     10\u001b[0m \u001b[0;34m\u001b[0m\u001b[0m\n\u001b[0;32m---> 11\u001b[0;31m     \u001b[0;32mfor\u001b[0m \u001b[0mcont\u001b[0m \u001b[0;32min\u001b[0m \u001b[0mcontinents\u001b[0m\u001b[0;34m:\u001b[0m\u001b[0;34m\u001b[0m\u001b[0m\n\u001b[0m\u001b[1;32m     12\u001b[0m         \u001b[0;32mfor\u001b[0m \u001b[0mpop\u001b[0m \u001b[0;32min\u001b[0m \u001b[0mpop_by_continent\u001b[0m\u001b[0;34m[\u001b[0m\u001b[0mcont\u001b[0m\u001b[0;34m]\u001b[0m\u001b[0;34m:\u001b[0m\u001b[0;34m\u001b[0m\u001b[0m\n\u001b[1;32m     13\u001b[0m             \u001b[0mproj\u001b[0m \u001b[0;34m=\u001b[0m \u001b[0mtemp_array\u001b[0m\u001b[0;34m[\u001b[0m\u001b[0mindices_of_population_members\u001b[0m\u001b[0;34m[\u001b[0m\u001b[0mpop\u001b[0m\u001b[0;34m]\u001b[0m\u001b[0;34m]\u001b[0m\u001b[0;34m\u001b[0m\u001b[0m\n",
      "\u001b[0;31mNameError\u001b[0m: name 'continents' is not defined"
     ]
    }
   ],
   "source": [
    "# Create images (specific to 1000G)\n",
    "for file in os.listdir(data_dir):\n",
    "\n",
    "    if os.path.isdir(os.path.join(data_dir, file)):\n",
    "        continue\n",
    "\n",
    "    fig = plt.figure(figsize=(10,10))\n",
    "    ax = fig.add_subplot(111, aspect=1)\n",
    "    temp_array = np.loadtxt(os.path.join(data_dir,file))\n",
    "    \n",
    "    for cont in continents:\n",
    "        for pop in pop_by_continent[cont]:\n",
    "            proj = temp_array[indices_of_population_members[pop]]\n",
    "            ax.plot(proj[:,0], proj[:,1], '.', color = color_dict[pop])\n",
    "\n",
    "    ax.set_title('Iteration: ' + file)\n",
    "    plt.savefig(os.path.join(img_dir,file) + '.jpeg', format='jpeg')\n",
    "\n",
    "    plt.close(fig)"
   ]
  },
  {
   "cell_type": "markdown",
   "metadata": {},
   "source": [
    "# UKBB animation"
   ]
  },
  {
   "cell_type": "code",
   "execution_count": 1,
   "metadata": {
    "collapsed": true
   },
   "outputs": [],
   "source": [
    "# Import auxiliary data from the UKBB notebook\n",
    "%store -r ukbb_eth_dict_parent\n",
    "%store -r indices_of_population_members\n",
    "%store -r color_dict_ukbb\n",
    "%store -r markers_dict"
   ]
  },
  {
   "cell_type": "code",
   "execution_count": 7,
   "metadata": {},
   "outputs": [],
   "source": [
    "ukbb_parent_dir = '/Volumes/Stockage/alex/ukbb_anim'\n",
    "ukbb_data_dir = os.path.join(ukbb_parent_dir, 'Data/10_pcs_1500_iterations')\n",
    "ukbb_movie_dir = os.path.join(ukbb_parent_dir, 'Movie')\n",
    "ukbb_img_dir = os.path.join(ukbb_parent_dir, 'Images/Labelled_17_by_17_10PCs_1500_iterations')"
   ]
  },
  {
   "cell_type": "code",
   "execution_count": 9,
   "metadata": {},
   "outputs": [],
   "source": [
    "# Create images from projections (if not already created)\n",
    "for file in os.listdir(ukbb_data_dir):\n",
    "\n",
    "    if os.path.isdir(os.path.join(ukbb_data_dir, file)):\n",
    "        continue\n",
    "\n",
    "    temp_array = np.loadtxt(os.path.join(ukbb_data_dir,file))\n",
    "        \n",
    "    fig = plt.figure(figsize=(17,17))\n",
    "    ax = fig.add_subplot(111, aspect=1)\n",
    "    \n",
    "    for pop in ukbb_eth_dict_parent:\n",
    "        if pop in ['White','Mixed','Asian or Asian British','Black or Black British']:\n",
    "            temp_proj = temp_array[indices_of_population_members[pop],:]\n",
    "            ax.plot(temp_proj[:,0], temp_proj[:,1],'.',label=pop,color=color_dict_ukbb[pop])\n",
    "        \n",
    "        for subpop in ukbb_eth_dict_parent[pop]:\n",
    "            temp_proj = temp_array[indices_of_population_members[subpop],:]\n",
    "            ax.plot(temp_proj[:,0], temp_proj[:,1],'.',label=subpop,color=color_dict_ukbb[subpop])\n",
    "\n",
    "    ax.legend(ncol=4,loc='center left', bbox_to_anchor=(0,-0.1), fontsize=20)\n",
    "    ax.set_title('Iteration: ' + file)\n",
    "    plt.savefig(os.path.join(ukbb_img_dir,file) + '.jpeg', format='jpeg')\n",
    "    \n",
    "    plt.close(fig)"
   ]
  },
  {
   "cell_type": "code",
   "execution_count": 10,
   "metadata": {
    "collapsed": true
   },
   "outputs": [],
   "source": [
    "# Create a movie from the images\n",
    "ukbb_movie_name = 'Labelled_17_by_17_10PCs_1500_iterations.gif'\n",
    "\n",
    "images = []\n",
    "for filename in os.listdir(ukbb_img_dir):\n",
    "    if os.path.isdir(os.path.join(ukbb_img_dir,filename)):\n",
    "        continue\n",
    "        \n",
    "    images.append(imageio.imread(os.path.join(ukbb_img_dir,filename)))\n",
    "\n",
    "imageio.mimsave(os.path.join(ukbb_movie_dir,ukbb_movie_name), images)"
   ]
  },
  {
   "cell_type": "markdown",
   "metadata": {
    "collapsed": true
   },
   "source": [
    "# HRS animation"
   ]
  },
  {
   "cell_type": "code",
   "execution_count": 11,
   "metadata": {
    "collapsed": true
   },
   "outputs": [],
   "source": [
    "hrs_parent_dir = '/Volumes/Stockage/alex/hrs'\n",
    "hrs_data_dir = os.path.join(hrs_parent_dir,'iterations')\n",
    "hrs_img_dir = os.path.join(hrs_parent_dir,'images')\n",
    "hrs_movie_dir = os.path.join(hrs_parent_dir,'movies')"
   ]
  },
  {
   "cell_type": "code",
   "execution_count": 22,
   "metadata": {},
   "outputs": [],
   "source": [
    "# Sharing variables between notebooks\n",
    "%store -r aux_data_hrs\n",
    "%store -r hisp_dict\n",
    "%store -r hisp_dict_rev\n",
    "%store -r mex_dict\n",
    "%store -r mex_dict_rev\n",
    "%store -r race_dict\n",
    "%store -r race_dict_rev\n",
    "%store -r brn_dict\n",
    "%store -r brn_dict_rev\n",
    "%store -r racedb_dict\n",
    "%store -r racedb_dict_rev\n",
    "\n",
    "%store -r aux_data_1\n",
    "%store -r aux_data_2\n",
    "%store -r aux_data_3\n",
    "%store -r aux_data_4\n",
    "%store -r aux_data_5\n",
    "%store -r aux_data_6\n",
    "\n",
    "%store -r individuals_hrs"
   ]
  },
  {
   "cell_type": "code",
   "execution_count": 24,
   "metadata": {},
   "outputs": [],
   "source": [
    "aux_to_use = aux_data_4"
   ]
  },
  {
   "cell_type": "code",
   "execution_count": 25,
   "metadata": {},
   "outputs": [],
   "source": [
    "# Define a colour set - this supports up to 30 colours\n",
    "from bokeh.palettes import Category20\n",
    "from bokeh.palettes import PRGn\n",
    "from bokeh.palettes import Set1\n",
    "\n",
    "# These auxiliary data sets will define how we label the observations\n",
    "\n",
    "# Columns are:\n",
    "# 0 = ID, 1 = Family ID, 2 = Birth Year\n",
    "# 3 = Hispanic, 4 = Detailed Hispanic, 5 = Race, 6 = Birth Region, 7 = Birth region name\n",
    "# 10= dbGaP race (Note: Black != AfrAm and White != Not_AfrAm)\n",
    "\n",
    "# Create multiple types of categorization based on variables to include\n",
    "# 1 - Birth region, race, Hispanic status, Mexican status\n",
    "# 2 - Race, Hispanic status, Mexican status\n",
    "# 3 - Birth region, race\n",
    "# 4 - Race, Hispanic status\n",
    "# 5 - Birth region\n",
    "# 6 - Birth region, Hispanic status, Mexican status\n",
    "\n",
    "# We must define the population dictionary we wish to use\n",
    "# The following gives us a collection of all categories of some population and/or proxy for ethnicity:\n",
    "eth_proxy_set = set([a[1] for a in aux_to_use])\n",
    "pop_dict = dict()\n",
    "\n",
    "for e in eth_proxy_set:\n",
    "    el = e.split('_')\n",
    "    \n",
    "    if aux_to_use == aux_data_1:    \n",
    "        temp_brn = brn_dict_rev[el[0]]\n",
    "        temp_race = race_dict_rev[el[1]]\n",
    "        temp_hisp = hisp_dict_rev[el[2]]\n",
    "        temp_mex = mex_dict_rev[el[3]]\n",
    "        \n",
    "        pop_dict.update({e:temp_brn + ' ' + temp_race + ' ' + temp_hisp + ' ' + temp_mex})\n",
    "    elif aux_to_use == aux_data_2:\n",
    "        temp_race = race_dict_rev[el[0]]\n",
    "        temp_hisp = hisp_dict_rev[el[1]]\n",
    "        temp_mex = mex_dict_rev[el[2]]\n",
    "        temp_list = [temp_race, temp_hisp, temp_mex]\n",
    "        \n",
    "        pop_dict.update({e:temp_race + ' ' + temp_hisp + ' ' + temp_mex})\n",
    "    elif aux_to_use == aux_data_3:\n",
    "        temp_brn = brn_dict_rev[el[0]]\n",
    "        temp_race = race_dict_rev[el[1]]\n",
    "        \n",
    "        pop_dict.update({e: temp_brn + ' ' + temp_race})\n",
    "    elif aux_to_use == aux_data_4:\n",
    "        temp_race = race_dict_rev[el[0]]\n",
    "        temp_hisp = hisp_dict_rev[el[1]]\n",
    "        \n",
    "        pop_dict.update({e: temp_race + ' ' + temp_hisp})\n",
    "    elif aux_to_use == aux_data_5:\n",
    "        temp_brn = brn_dict_rev[el[0]]\n",
    "        \n",
    "        pop_dict.update({e: temp_brn})\n",
    "    elif aux_to_use == aux_data_6:\n",
    "        temp_brn = brn_dict_rev[el[0]]\n",
    "        temp_hisp = hisp_dict_rev[el[1]]\n",
    "        temp_mex = mex_dict_rev[el[2]]\n",
    "        \n",
    "        pop_dict.update({e: temp_brn + ' ' + temp_hisp + ' ' + temp_mex})\n",
    "\n",
    "color_dict_hrs = {}\n",
    "\n",
    "for j, pop in enumerate(eth_proxy_set):\n",
    "    if j < 20:\n",
    "        color_dict_hrs[pop] = Category20[20][j]\n",
    "    elif j < 30:\n",
    "        color_dict_hrs[pop] = PRGn[10][j%20]\n",
    "    else:\n",
    "        color_dict_hrs[pop] = Set1[9][j%30]\n",
    "\n",
    "# Set up an index of each population member and vice versa\n",
    "# We want to quickly access a given individual's population and a given population's individuals\n",
    "population_by_individual_hrs = defaultdict(int)\n",
    "individuals_by_population_hrs = defaultdict(list)\n",
    "\n",
    "for a in aux_to_use:\n",
    "    population_by_individual_hrs[a[0]] = a[1]\n",
    "    individuals_by_population_hrs[a[1]].append(a[0])\n",
    "    \n",
    "indices_of_population_members_hrs = defaultdict(list)\n",
    "\n",
    "for index, indiv in enumerate(individuals_hrs):\n",
    "    try:\n",
    "        indices_of_population_members_hrs[population_by_individual_hrs[indiv]].append(index)\n",
    "    except KeyError:\n",
    "        continue"
   ]
  },
  {
   "cell_type": "code",
   "execution_count": 46,
   "metadata": {},
   "outputs": [],
   "source": [
    "#x=0\n",
    "for file in os.listdir(hrs_data_dir):\n",
    "    if os.path.isdir(os.path.join(hrs_parent_dir,file)):\n",
    "        continue\n",
    "    \n",
    "    #if x > 1:\n",
    "    #    continue\n",
    "    \n",
    "    temp_array = np.loadtxt(os.path.join(hrs_data_dir,file))\n",
    "    \n",
    "    fig = plt.figure(figsize=(10,10))\n",
    "    ax = fig.add_subplot(111, aspect=1)\n",
    "    \n",
    "    for pop in sorted(eth_proxy_set):\n",
    "        temp_proj = temp_array[indices_of_population_members_hrs[pop]]\n",
    "        ax.plot(temp_proj[:,0], temp_proj[:,1],'.',label=pop_dict[pop],color=color_dict_hrs[pop])\n",
    "    \n",
    "    ax.legend(ncol=2,loc='center', bbox_to_anchor=(0.5,-0.1), fontsize=20)\n",
    "    ax.set_title('Iteration: ' + file)\n",
    "    plt.savefig(os.path.join(hrs_img_dir,file) + '.jpeg', format='jpeg')\n",
    "    \n",
    "    plt.close(fig)\n",
    "    \n",
    "    #x+=1"
   ]
  },
  {
   "cell_type": "code",
   "execution_count": null,
   "metadata": {
    "collapsed": true
   },
   "outputs": [],
   "source": []
  }
 ],
 "metadata": {
  "kernelspec": {
   "display_name": "Python 3",
   "language": "python",
   "name": "python3"
  },
  "language_info": {
   "codemirror_mode": {
    "name": "ipython",
    "version": 3
   },
   "file_extension": ".py",
   "mimetype": "text/x-python",
   "name": "python",
   "nbconvert_exporter": "python",
   "pygments_lexer": "ipython3",
   "version": "3.6.3"
  }
 },
 "nbformat": 4,
 "nbformat_minor": 2
}
