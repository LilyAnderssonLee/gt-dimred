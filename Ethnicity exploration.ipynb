{
 "cells": [
  {
   "cell_type": "code",
   "execution_count": 1,
   "metadata": {
    "collapsed": true
   },
   "outputs": [],
   "source": [
    "### 1\n",
    "# Import and load the packages we will need. \n",
    "# You will probably need to install ipywidgets and bokeh\n",
    "# conda install -c https://conda.anaconda.org/anaconda ipywidgets\n",
    "# conda install -c https://conda.anaconda.org/anaconda bokeh\n",
    "\n",
    "%matplotlib inline\n",
    "import matplotlib.pyplot as plt\n",
    "import collections\n",
    "import gzip\n",
    "import numpy as np\n",
    "import os\n",
    "import phate\n",
    "import time\n",
    "\n",
    "import pandas as pd\n",
    "\n",
    "from ipywidgets import interact\n",
    "import bokeh\n",
    "import bokeh.io\n",
    "from bokeh.io import push_notebook\n",
    "from bokeh.plotting import figure, show, save, output_notebook, output_file\n",
    "from bokeh.palettes import Category20b\n",
    "\n",
    "from collections import defaultdict\n",
    "import itertools\n",
    "\n",
    "# To install sklearn: conda install scikit-learn\n",
    "import sklearn\n",
    "from sklearn import decomposition\n",
    "from sklearn.decomposition import PCA as PCA # We'll use this to check our implementation\n",
    "from sklearn.manifold import TSNE\n",
    "from MulticoreTSNE import MulticoreTSNE as mTSNE\n",
    "\n",
    "from sklearn.decomposition import TruncatedSVD\n",
    "from sklearn.manifold import MDS\n",
    "\n",
    "import umap"
   ]
  },
  {
   "cell_type": "code",
   "execution_count": 2,
   "metadata": {
    "collapsed": true
   },
   "outputs": [],
   "source": [
    "import sklearn"
   ]
  },
  {
   "cell_type": "code",
   "execution_count": 3,
   "metadata": {
    "collapsed": true
   },
   "outputs": [],
   "source": [
    "parent_dir = '/Users/alex/Documents/Ethnicity'"
   ]
  },
  {
   "cell_type": "code",
   "execution_count": 4,
   "metadata": {
    "collapsed": true
   },
   "outputs": [],
   "source": [
    "### 16\n",
    "from collections import Counter # We'll use this built-in function to count genotypes.\n",
    "\n",
    "class snp(object):\n",
    "\n",
    "    def __init__(self, line, select=False, autosome_only =True):\n",
    "        \"\"\"The initialization method takes in a line from the vcf file, as a string, \n",
    "        and records the relevant information. \n",
    "        line: a string from a vcf file\n",
    "        select: a list of positions of individuals to be analyzed, where positions run from 0 to \n",
    "        nInd-1, the number of individuals\n",
    "        \"\"\" \n",
    "        \n",
    "        split_line = line.split()  #  First break down the line into a list of each field\n",
    "        \n",
    "        self.failed = False  # A label that we will set to True if something goes wrong.\n",
    "        \n",
    "        if line.startswith('#'):\n",
    "            self.failed = True\n",
    "            self.failure_cause = \"line was a header line, not a snp\"\n",
    "            return\n",
    "        \n",
    "        if len(split_line)<=5:\n",
    "            self.failed = True\n",
    "            self.failure_cause = \"incorrectly formatted line, should have at least 5 fields \" + line\n",
    "            return\n",
    "          \n",
    "        self.chrom = split_line[0]\n",
    "        if autosome_only:\n",
    "            if self.chrom not in [\"%d\" % (i,) for i in range(1,23)]:\n",
    "                self.failed = True\n",
    "                self.failure_cause = \"not recognized as an autosome while autosome_only set to True\"\n",
    "                return\n",
    "        \n",
    "        self.chrom = int(split_line[0]) # Chromosome (numbered)\n",
    "        self.position = int(split_line[1])  # The coordinates of the snp\n",
    "        self.rid = split_line[2] # Name/Record ID\n",
    "        self.ref_allele = split_line[3]\n",
    "        self.alt_allele = split_line[4] # The alterate allele according to the vcf; also a string \n",
    "        # Only accept snps in ACGT. \n",
    "        if self.ref_allele not in [\"A\",\"C\",\"G\",\"T\"] or self.alt_allele not in [\"A\",\"C\",\"G\",\"T\"]:\n",
    "            self.failed = True\n",
    "            self.failure_cause = \"ref or alt not in ACGT\"\n",
    "            return\n",
    "        self.filter = split_line[6]  # See vcf format specifications for the interpretation of \n",
    "                                    # the filter field\n",
    "        if self.filter not in ['PASS', '.'] :  # PASS indicates a SNP that passed all QC filters.\n",
    "            self.failed = True\n",
    "            self.failure_cause = self.filter\n",
    "            return\n",
    "        \n",
    "        \n",
    "        self.genotype_strings = split_line[9:]\n",
    "\n",
    "\n",
    "        # Prepare a list that will contain the transformed genotypes. \n",
    "        # Since we already know how long the list will be, it makes sense \n",
    "        # to create an array of zeros of the same length as self.gtypes, \n",
    "        \n",
    "        self.genotype_array = np.zeros(len(self.genotype_strings), dtype = np.int8)             \n",
    "\n",
    "        # Count the number of each genotype. \n",
    "        # There may be different strings giving the same genotype so we increment the \n",
    "        # counts found so far for the genotype by the number of times the  \n",
    "        # For example, \"0/0\" and \"0\\0\" give homref, and \"0|1\" and \"1|0\" give het\n",
    "        \n",
    "        n_missing = 0\n",
    "        for index,genotype_string in enumerate(self.genotype_strings):\n",
    "            if genotype_string == './.':\n",
    "                n_missing +=1 \n",
    "                self.genotype_array[index]=-1\n",
    "                continue # missing data will be left as 0\n",
    "            allele_0 = genotype_string[0] # Get the first allele (as a string)\n",
    "            allele_1 = genotype_string[2]\n",
    "            if (allele_0=='1' and allele_1=='1'): # Use rstrip because windows machines will occasionally have extra \\n\n",
    "                self.genotype_array[index]=2\n",
    "            elif ((allele_0=='0' and allele_1=='1') or (allele_0=='1' and allele_1=='0')):\n",
    "                self.genotype_array[index]=1   \n",
    "            elif (allele_0=='0' and allele_1=='0'):\n",
    "                # The array was initialized to zero, so nothing to do here!\n",
    "                continue\n",
    "            else:\n",
    "                print((\"unknown genotype\", genotype_string))\n",
    "                self.failed=True\n",
    "                self.failedreason=\"unknown genotype\"\n",
    "                return"
   ]
  },
  {
   "cell_type": "code",
   "execution_count": 5,
   "metadata": {
    "collapsed": true
   },
   "outputs": [],
   "source": [
    "### 17\n",
    "# the vcf file can be found at \n",
    "#http://ftp.1000genomes.ebi.ac.uk/vol1/ftp/release/20130502/supporting/hd_genotype_chip/\n",
    " \n",
    "vcf_file_name = 'ALL.wgs.nhgri_coriell_affy_6.20140825.genotypes_has_ped.vcf.gz'\n",
    "#vcf_file = os.path.join(parent_dir, vcf_file_name)\n",
    "vcf_file = '/Volumes/Stockage/alex/1000G/ALL.wgs.nhgri_coriell_affy_6.20140825.genotypes_has_ped.vcf.gz'"
   ]
  },
  {
   "cell_type": "code",
   "execution_count": 6,
   "metadata": {},
   "outputs": [
    {
     "name": "stdout",
     "output_type": "stream",
     "text": [
      "Failed: not recognized as an autosome while autosome_only set to True\n",
      "Failed: not recognized as an autosome while autosome_only set to True\n",
      "Failed: not recognized as an autosome while autosome_only set to True\n",
      "Failed: not recognized as an autosome while autosome_only set to True\n",
      "Failed: not recognized as an autosome while autosome_only set to True\n",
      "Failed: not recognized as an autosome while autosome_only set to True\n",
      "Failed: not recognized as an autosome while autosome_only set to True\n",
      "Failed: not recognized as an autosome while autosome_only set to True\n",
      "Failed: not recognized as an autosome while autosome_only set to True\n",
      "Failed: not recognized as an autosome while autosome_only set to True\n",
      "905886 3715\n",
      "86864\n",
      "261.91826701164246\n"
     ]
    }
   ],
   "source": [
    "### 18\n",
    "start_time = time.time()\n",
    "number_of_lines_to_skip = 10 # Number_of_lines_to_skip each time we process a line. This allows us to get \n",
    "                              # a genome-wide sample without having to store all the lines in memory.\n",
    "\n",
    "genotype_matrix = []  # Will contain our numerical genotype matrix. \n",
    "genotype_positions = []\n",
    "genotype_names = []\n",
    "x = 0\n",
    "error_count = 0\n",
    "\n",
    "with gzip.open(vcf_file,'rt') as f:\n",
    "    count = 0\n",
    "    for line in f:\n",
    "        count+=1\n",
    "        if count % number_of_lines_to_skip == 0:\n",
    "            if line.startswith(\"#\") or snp(line).failed:\n",
    "                if snp(line).failure_cause != \"line was a header line, not a snp\":\n",
    "                    error_count += 1\n",
    "                    if x < 10:\n",
    "                        print('Failed: ' + snp(line).failure_cause)\n",
    "                        x+=1\n",
    "                continue\n",
    "            \n",
    "            return_snp = snp(line)\n",
    "            genotype_matrix.append(return_snp.genotype_array)\n",
    "            genotype_names.append(return_snp.rid)\n",
    "            genotype_positions.append([return_snp.chrom, return_snp.position])\n",
    "\n",
    "end_time = time.time()\n",
    "            \n",
    "print(count, error_count)\n",
    "print(len(genotype_matrix))\n",
    "print(str(end_time - start_time))"
   ]
  },
  {
   "cell_type": "code",
   "execution_count": 7,
   "metadata": {
    "scrolled": true
   },
   "outputs": [
    {
     "name": "stdout",
     "output_type": "stream",
     "text": [
      "[[ 0  2  0 ...,  2  0  0]\n",
      " [-1  2  0 ...,  0  0  0]\n",
      " [ 0  2  0 ...,  2  0  1]\n",
      " ..., \n",
      " [ 0  2  0 ...,  1  0  1]\n",
      " [ 0  2  0 ...,  0  1  0]\n",
      " [ 0  2  0 ...,  2  1  0]] (3450, 86864)\n"
     ]
    }
   ],
   "source": [
    "transposed_genotype_matrix = np.array(genotype_matrix).transpose()\n",
    "print(transposed_genotype_matrix, transposed_genotype_matrix.shape)"
   ]
  },
  {
   "cell_type": "code",
   "execution_count": 8,
   "metadata": {},
   "outputs": [
    {
     "name": "stdout",
     "output_type": "stream",
     "text": [
      "['GBR', 'FIN', 'CHS', 'PUR', 'CDX', 'CLM', 'IBS', 'PEL', 'PJL', 'KHV', 'ACB', 'GWD', 'ESN', 'BEB', 'MSL', 'STU', 'ITU', 'CEU', 'YRI', 'CHB', 'JPT', 'LWK', 'ASW', 'MXL', 'TSI', 'GIH']\n"
     ]
    }
   ],
   "source": [
    "population_file_name = 'affy_samples.20141118.panel' # This file is available at \n",
    "#http://ftp.1000genomes.ebi.ac.uk/vol1/ftp/release/20130502/supporting/hd_genotype_chip/\n",
    "\n",
    "population_file = os.path.join(parent_dir, population_file_name)\n",
    "\n",
    "population_by_individual = defaultdict(int)\n",
    "individuals_by_population = defaultdict(list)  # A dictionary containing all the individuals in a given population\n",
    "\n",
    "for line in open(population_file,'r'):\n",
    "    split_line = line.split()\n",
    "    if split_line[0] == 'sample':  # header line\n",
    "        continue\n",
    "\n",
    "    sample_name = split_line[0]\n",
    "    population_name = split_line[1]\n",
    "    population_by_individual[sample_name] = population_name\n",
    "    individuals_by_population[population_name].append(sample_name) \n",
    "\n",
    "populations = list(individuals_by_population.keys())\n",
    "print(populations)"
   ]
  },
  {
   "cell_type": "code",
   "execution_count": 9,
   "metadata": {
    "scrolled": true
   },
   "outputs": [
    {
     "name": "stdout",
     "output_type": "stream",
     "text": [
      "\n",
      "\n",
      "continent groupings\n",
      "\n",
      "\n",
      "EAS ['CDX', 'CHB', 'JPT', 'KHV', 'CHS']\n",
      "SAS ['BEB', 'GIH', 'ITU', 'PJL', 'STU']\n",
      "AFR ['ASW', 'ACB', 'ESN', 'GWD', 'LWK', 'MSL', 'YRI']\n",
      "EUR ['GBR', 'FIN', 'IBS', 'TSI', 'CEU']\n",
      "AMR ['CLM', 'MXL', 'PEL', 'PUR']\n",
      "\n",
      "\n",
      "Population labels\n",
      "\n",
      "\n",
      "CDX Chinese Dai in Xishuangbanna, China\n",
      "CHB Han Chinese in Bejing, China\n",
      "JPT Japanese in Tokyo, Japan\n",
      "KHV Kinh in Ho Chi Minh City, Vietnam\n",
      "CHS Southern Han Chinese, China\n",
      "BEB Bengali in Bangladesh\n",
      "GIH Gujarati Indian in Houston,TX\n",
      "ITU Indian Telugu in the UK\n",
      "PJL Punjabi in Lahore,Pakistan\n",
      "STU Sri Lankan Tamil in the UK\n",
      "ASW African Ancestry in Southwest US\n",
      "ACB African Caribbean in Barbados\n",
      "ESN Esan in Nigeria\n",
      "GWD Gambian in Western Division\n",
      "LWK Luhya in Webuye, Kenya\n",
      "MSL Mende in Sierra Leone\n",
      "YRI Yoruba in Ibadan, Nigeria\n",
      "GBR British in England and Scotland\n",
      "FIN Finnish in Finland\n",
      "IBS Iberian populations in Spain\n",
      "TSI Toscani in Italy\n",
      "CEU Utah residents with N and W European ancestry\n",
      "CLM Colombian in Medellin, Colombia\n",
      "MXL Mexican Ancestry in LA, California\n",
      "PEL Peruvian in Lima, Peru\n",
      "PUR Puerto Rican in Puerto Rico\n"
     ]
    }
   ],
   "source": [
    "# The path to the place where you put the population name file.\n",
    "population_description_file = os.path.join(parent_dir, \"20131219.populations.tsv\")\n",
    "\n",
    "name_by_code = {}  # A dictionary giving the full name of each population code\n",
    "pop_by_continent = {}  # A dictionary giving the code of each population within a continent  \n",
    "continent_by_population = {}  # A dictionary giving the continent for each population code\n",
    "for line in open(population_description_file,'r'):\n",
    "    split_line = line.split('\\t')\n",
    "    if split_line[0] in ['Population Description','Total','']:  # header or footer\n",
    "        continue\n",
    "    name_by_code[split_line[1]] = split_line[0]\n",
    "    continent_by_population[split_line[1]] = split_line[2]\n",
    "    try: \n",
    "        pop_by_continent[split_line[2]].append(split_line[1])\n",
    "    except KeyError:\n",
    "        pop_by_continent[split_line[2]] = [split_line[1]]\n",
    "\n",
    "continents = list(pop_by_continent.keys()) \n",
    "\n",
    "print(\"\\n\\ncontinent groupings\\n\\n\")\n",
    "for continent in continents:\n",
    "    print(continent, pop_by_continent[continent])\n",
    "    \n",
    "    \n",
    "# Finally, we want a list of populations listed by continent. \n",
    "pops=[]\n",
    "for continent in continents:\n",
    "    pops.extend(pop_by_continent[continent])\n",
    "print(\"\\n\\nPopulation labels\\n\\n\")\n",
    "\n",
    "for pop in pops:\n",
    "    print(pop, name_by_code[pop])"
   ]
  },
  {
   "cell_type": "code",
   "execution_count": 11,
   "metadata": {},
   "outputs": [],
   "source": [
    "from bokeh.palettes import Category20b\n",
    "from bokeh.palettes import Purples\n",
    "from bokeh.palettes import Greens\n",
    "from bokeh.palettes import YlOrBr\n",
    "from bokeh.palettes import YlOrRd\n",
    "from bokeh.palettes import PuOr\n",
    "from bokeh.palettes import RdGy\n",
    "\n",
    "color_dict = {}\n",
    "for i, cont in enumerate(continents): \n",
    "    for j, pop in enumerate(pop_by_continent[cont]):\n",
    "        color_dict[pop] = Category20b[20][4*i+j%4]\n",
    "\n",
    "# Issue: shared colours between:\n",
    "# CDX and CHS (purple)\n",
    "# GIH and STU (green)\n",
    "# ASW and LWK (brown/yellow)\n",
    "# ACB and MSL (brown/yellow)\n",
    "# ESN and YRI (goldenrod/canary/saffron/paella)\n",
    "# GBR and CEU (dark red)\n",
    "\n",
    "# Manually assign colours to CHS, STU, LWK, MSL, CEU\n",
    "color_dict['CHS'] = Purples[9][4]# purple\n",
    "color_dict['STU'] = Greens[9][6] # green\n",
    "color_dict['LWK'] = PuOr[11][-1] # brown\n",
    "color_dict['MSL'] = PuOr[11][-2] # rusty brown\n",
    "color_dict['YRI'] = PuOr[11][-3] # cappucino w/ extra milk (stirred)\n",
    "color_dict['CEU'] = RdGy[11][-3]"
   ]
  },
  {
   "cell_type": "code",
   "execution_count": 12,
   "metadata": {
    "scrolled": false
   },
   "outputs": [],
   "source": [
    "# For troubleshooting purposes (checking individual values of colours)\n",
    "\n",
    "#for i, cont in enumerate(continents):\n",
    "#    for j, pop in enumerate(pop_by_continent[cont]):\n",
    "#        print(str(i), str(j), cont, color_dict[pop], pop, name_by_code[pop])"
   ]
  },
  {
   "cell_type": "code",
   "execution_count": 13,
   "metadata": {
    "collapsed": true
   },
   "outputs": [],
   "source": [
    "### 27\n",
    "# Get the path to the file containing the vcf header. \n",
    "# That should be the same vcf you used above, but if your filtered file\n",
    "# is somehow missing the header, you can aways look at the initial file that still has the header.\n",
    "x=0\n",
    "\n",
    "vcf_file = '/Volumes/Stockage/alex/1000G/ALL.wgs.nhgri_coriell_affy_6.20140825.genotypes_has_ped.vcf.gz'\n",
    "for line in gzip.open(vcf_file,'rt'):\n",
    "    if line.startswith(\"#\"):\n",
    "        if not line.startswith(\"##\"):\n",
    "            # Extract the individuals for the population, as a list of strings\n",
    "            # Make sure you don't have trailing \\n if you're running windows!\n",
    "            individuals = line.split()[9:]\n",
    "            # Once we've extracted the individuals, we can exit the loops. \n",
    "            break"
   ]
  },
  {
   "cell_type": "code",
   "execution_count": 14,
   "metadata": {
    "collapsed": true
   },
   "outputs": [],
   "source": [
    "### 28\n",
    "# Build a list of populations for each indiviudal in the vcf file\n",
    "lspop = []\n",
    "for ind in individuals:\n",
    "    pop = population_by_individual[ind]\n",
    "    if pop == 0:\n",
    "        #print(0)\n",
    "        lspop.append(\"missing\")\n",
    "    else:\n",
    "        lspop.append(pop)\n",
    "\n",
    "        \n",
    "indices_of_population_members = defaultdict(list)\n",
    "\n",
    "for index,individual in enumerate(individuals):\n",
    "    try:\n",
    "        indices_of_population_members[population_by_individual[individual]].append(index)\n",
    "    except KeyError: # We do not have population info for this individual\n",
    "        continue\n",
    "\n",
    "#indices_of_population_members"
   ]
  },
  {
   "cell_type": "code",
   "execution_count": 15,
   "metadata": {},
   "outputs": [
    {
     "data": {
      "text/plain": [
       "{'AFR': ['ASW', 'ACB', 'ESN', 'GWD', 'LWK', 'MSL', 'YRI'],\n",
       " 'AMR': ['CLM', 'MXL', 'PEL', 'PUR'],\n",
       " 'EAS': ['CDX', 'CHB', 'JPT', 'KHV', 'CHS'],\n",
       " 'EUR': ['GBR', 'FIN', 'IBS', 'TSI', 'CEU'],\n",
       " 'SAS': ['BEB', 'GIH', 'ITU', 'PJL', 'STU']}"
      ]
     },
     "execution_count": 15,
     "metadata": {},
     "output_type": "execute_result"
    }
   ],
   "source": [
    "pop_by_continent"
   ]
  },
  {
   "cell_type": "code",
   "execution_count": 16,
   "metadata": {
    "scrolled": true
   },
   "outputs": [
    {
     "data": {
      "text/plain": [
       "{'ACB': '#bd9e39',\n",
       " 'ASW': '#8c6d31',\n",
       " 'BEB': '#637939',\n",
       " 'CDX': '#393b79',\n",
       " 'CEU': '#d6604d',\n",
       " 'CHB': '#5254a3',\n",
       " 'CHS': '#9e9ac8',\n",
       " 'CLM': '#7b4173',\n",
       " 'ESN': '#e7ba52',\n",
       " 'FIN': '#ad494a',\n",
       " 'GBR': '#843c39',\n",
       " 'GIH': '#8ca252',\n",
       " 'GWD': '#e7cb94',\n",
       " 'IBS': '#d6616b',\n",
       " 'ITU': '#b5cf6b',\n",
       " 'JPT': '#6b6ecf',\n",
       " 'KHV': '#9c9ede',\n",
       " 'LWK': '#7f3b08',\n",
       " 'MSL': '#b35806',\n",
       " 'MXL': '#a55194',\n",
       " 'PEL': '#ce6dbd',\n",
       " 'PJL': '#cedb9c',\n",
       " 'PUR': '#de9ed6',\n",
       " 'STU': '#c7e9c0',\n",
       " 'TSI': '#e7969c',\n",
       " 'YRI': '#e08214'}"
      ]
     },
     "execution_count": 16,
     "metadata": {},
     "output_type": "execute_result"
    }
   ],
   "source": [
    "color_dict"
   ]
  },
  {
   "cell_type": "code",
   "execution_count": 17,
   "metadata": {},
   "outputs": [
    {
     "name": "stdout",
     "output_type": "stream",
     "text": [
      "Stored 'continents' (list)\n",
      "Stored 'pop_by_continent' (dict)\n",
      "Stored 'pop' (str)\n",
      "Stored 'indices_of_population_members' (defaultdict)\n",
      "Stored 'name_by_code' (dict)\n",
      "Stored 'continent_by_population' (dict)\n",
      "Stored 'individuals' (list)\n",
      "Stored 'population_by_individual' (defaultdict)\n",
      "Stored 'individuals_by_population' (defaultdict)\n",
      "Stored 'populations' (list)\n",
      "Stored 'color_dict' (dict)\n"
     ]
    }
   ],
   "source": [
    "%store continents\n",
    "%store pop_by_continent\n",
    "%store pop\n",
    "%store indices_of_population_members\n",
    "%store name_by_code\n",
    "%store continent_by_population\n",
    "%store individuals\n",
    "%store population_by_individual\n",
    "%store individuals_by_population\n",
    "%store populations\n",
    "%store color_dict"
   ]
  },
  {
   "cell_type": "markdown",
   "metadata": {},
   "source": [
    "# Principal component generation"
   ]
  },
  {
   "cell_type": "markdown",
   "metadata": {},
   "source": [
    "Generate the PCs"
   ]
  },
  {
   "cell_type": "code",
   "execution_count": null,
   "metadata": {},
   "outputs": [],
   "source": [
    "pca_full = PCA().fit(transposed_genotype_matrix)"
   ]
  },
  {
   "cell_type": "code",
   "execution_count": null,
   "metadata": {
    "collapsed": true
   },
   "outputs": [],
   "source": [
    "np.savetxt(pca_full.components_, '/Users/alex/Documents/Ethnicity/1kgp_components')"
   ]
  },
  {
   "cell_type": "code",
   "execution_count": 54,
   "metadata": {},
   "outputs": [
    {
     "ename": "NameError",
     "evalue": "name 'pca_full' is not defined",
     "output_type": "error",
     "traceback": [
      "\u001b[0;31m---------------------------------------------------------------------------\u001b[0m",
      "\u001b[0;31mNameError\u001b[0m                                 Traceback (most recent call last)",
      "\u001b[0;32m<ipython-input-54-7d8128d110dd>\u001b[0m in \u001b[0;36m<module>\u001b[0;34m()\u001b[0m\n\u001b[0;32m----> 1\u001b[0;31m \u001b[0mpca_full\u001b[0m\u001b[0;34m.\u001b[0m\u001b[0mcomponents_\u001b[0m\u001b[0;34m.\u001b[0m\u001b[0mshape\u001b[0m\u001b[0;34m\u001b[0m\u001b[0m\n\u001b[0m",
      "\u001b[0;31mNameError\u001b[0m: name 'pca_full' is not defined"
     ]
    }
   ],
   "source": [
    "pca_full.components_.shape"
   ]
  },
  {
   "cell_type": "code",
   "execution_count": 20,
   "metadata": {},
   "outputs": [
    {
     "name": "stdout",
     "output_type": "stream",
     "text": [
      "Stored 'transposed_genotype_matrix' (ndarray)\n"
     ]
    }
   ],
   "source": [
    "#%store pca_full\n",
    "%store transposed_genotype_matrix"
   ]
  },
  {
   "cell_type": "code",
   "execution_count": 52,
   "metadata": {},
   "outputs": [
    {
     "ename": "NameError",
     "evalue": "name 'pca_full' is not defined",
     "output_type": "error",
     "traceback": [
      "\u001b[0;31m---------------------------------------------------------------------------\u001b[0m",
      "\u001b[0;31mNameError\u001b[0m                                 Traceback (most recent call last)",
      "\u001b[0;32m<ipython-input-52-ac5aaf93b2e0>\u001b[0m in \u001b[0;36m<module>\u001b[0;34m()\u001b[0m\n\u001b[1;32m      2\u001b[0m \u001b[0;31m# Have to subset the components and use that.\u001b[0m\u001b[0;34m\u001b[0m\u001b[0;34m\u001b[0m\u001b[0m\n\u001b[1;32m      3\u001b[0m \u001b[0mk\u001b[0m \u001b[0;34m=\u001b[0m \u001b[0;36m100\u001b[0m\u001b[0;34m\u001b[0m\u001b[0m\n\u001b[0;32m----> 4\u001b[0;31m \u001b[0mcomps\u001b[0m \u001b[0;34m=\u001b[0m \u001b[0mpca_full\u001b[0m\u001b[0;34m.\u001b[0m\u001b[0mcomponents_\u001b[0m\u001b[0;34m[\u001b[0m\u001b[0;34m:\u001b[0m\u001b[0mk\u001b[0m\u001b[0;34m,\u001b[0m\u001b[0;34m:\u001b[0m\u001b[0;34m]\u001b[0m\u001b[0;34m\u001b[0m\u001b[0m\n\u001b[0m",
      "\u001b[0;31mNameError\u001b[0m: name 'pca_full' is not defined"
     ]
    }
   ],
   "source": [
    "# Calculate the PCs manually. We want a subset of k PCs\n",
    "# Have to subset the components and use that.\n",
    "k = 100\n",
    "comps = pca_full.components_[:k,:]"
   ]
  },
  {
   "cell_type": "code",
   "execution_count": 63,
   "metadata": {
    "collapsed": true
   },
   "outputs": [],
   "source": [
    "# Mean-center the SNP data and then transform it (projecting to k dimensions)\n",
    "projections_to_PCs = np.dot((transposed_genotype_matrix - pca_full.mean_), comps.T)"
   ]
  },
  {
   "cell_type": "code",
   "execution_count": 49,
   "metadata": {
    "collapsed": true
   },
   "outputs": [],
   "source": [
    "np.savetxt('/Volumes/Stockage/alex/1000G/projections/pca_1000g_100', projections_to_PCs)"
   ]
  },
  {
   "cell_type": "code",
   "execution_count": 90,
   "metadata": {
    "scrolled": true
   },
   "outputs": [
    {
     "data": {
      "text/plain": [
       "[<matplotlib.lines.Line2D at 0x1a0da4c7f0>]"
      ]
     },
     "execution_count": 90,
     "metadata": {},
     "output_type": "execute_result"
    },
    {
     "data": {
      "image/png": "[encoded data removed]",
      "text/plain": [
       "<matplotlib.figure.Figure at 0x1a0c27c048>"
      ]
     },
     "metadata": {},
     "output_type": "display_data"
    }
   ],
   "source": [
    "plt.plot(projections_to_PCs[:,1], projections_to_PCs[:,2], '.')"
   ]
  },
  {
   "cell_type": "code",
   "execution_count": 20,
   "metadata": {
    "collapsed": true
   },
   "outputs": [],
   "source": [
    "pca_100 = np.loadtxt('/Volumes/Stockage/alex/1000G/projections/pca_1000g_100')"
   ]
  },
  {
   "cell_type": "markdown",
   "metadata": {},
   "source": [
    "# Secondary dimension reduction methods\n",
    "\n",
    "Test a variety of other secondary reduction measures and see what sticks.\n",
    "\n",
    "Conclusion: MDS has some potential but still doesn't do as well as TSNE. It did split Japan into two subclusters though...."
   ]
  },
  {
   "cell_type": "code",
   "execution_count": null,
   "metadata": {
    "collapsed": true
   },
   "outputs": [],
   "source": [
    "# Create an MDS projection for PCs 11 through 30.\n",
    "mds_proj_list = list()\n",
    "\n",
    "for pc_proj in pc_proj_list:\n",
    "    if 10<=pc_proj.shape[1]<=30:\n",
    "        temp_proj = MDS(n_components=2).fit_transform(pc_proj)\n",
    "        np.savetxt('1000G_MDS_PC_' + str(pc_proj.shape[1]), temp_proj)"
   ]
  },
  {
   "cell_type": "code",
   "execution_count": 88,
   "metadata": {
    "collapsed": true
   },
   "outputs": [],
   "source": [
    "# Try t-SNE (2 dimensions)\n",
    "genotype_tsne = TSNE(n_components=2).fit_transform(projections_to_PCs)"
   ]
  },
  {
   "cell_type": "code",
   "execution_count": 26,
   "metadata": {
    "collapsed": true
   },
   "outputs": [
    {
     "name": "stdout",
     "output_type": "stream",
     "text": [
      "Bulding kNN graph and diffusion operator...\n",
      "Built graph and diffusion operator in 1520.77 seconds.\n",
      "Calculating diffusion potential...\n",
      "Calculated diffusion potential in 3.41 seconds.\n",
      "Embedding data using classic MDS...\n",
      "Embedded data in 22.78 seconds.\n",
      "Finished PHATE embedding in 1546.96 seconds.\n",
      "\n",
      "Using precomputed diffusion operator...\n",
      "Using precomputed diffusion potential...\n",
      "Embedding data using classic MDS...\n",
      "Embedded data in 22.31 seconds.\n",
      "Finished PHATE embedding in 22.31 seconds.\n",
      "\n",
      "Using precomputed diffusion operator...\n",
      "Using precomputed diffusion potential...\n",
      "Embedding data using metric MDS...\n",
      "Embedded data in 929.52 seconds.\n",
      "Finished PHATE embedding in 929.52 seconds.\n",
      "\n",
      "Using precomputed diffusion operator...\n",
      "Using precomputed diffusion potential...\n",
      "Embedding data using metric MDS...\n",
      "Embedded data in 924.02 seconds.\n",
      "Finished PHATE embedding in 924.02 seconds.\n",
      "\n",
      "Using precomputed diffusion operator...\n",
      "Using precomputed diffusion potential...\n",
      "Embedding data using nonmetric MDS...\n",
      "Embedded data in 1065.52 seconds.\n",
      "Finished PHATE embedding in 1065.52 seconds.\n",
      "\n",
      "Using precomputed diffusion operator...\n",
      "Using precomputed diffusion potential...\n",
      "Embedding data using nonmetric MDS...\n",
      "Embedded data in 54.26 seconds.\n",
      "Finished PHATE embedding in 54.26 seconds.\n",
      "\n"
     ]
    }
   ],
   "source": [
    "# Try PHATE\n",
    "# Based off of:\n",
    "# https://nbviewer.jupyter.org/github/KrishnaswamyLab/PHATE/blob/master/Python/test/phate_examples.ipynb?flush_cache=true\n",
    "?phate.PHATE\n",
    "\n",
    "# Create instance of PHATE operator (use default options)\n",
    "phate_operator = phate.PHATE()\n",
    "\n",
    "# Run PHATE with classic MDS on the projected data as well as the unprojected data\n",
    "Y_cmds_raw = phate_operator.fit_transform(transposed_genotype_matrix)\n",
    "Y_cmds_pcs = phate_operator.fit_transform(projections_to_PCs)\n",
    "\n",
    "# Run PHATE with metric MDS on each one\n",
    "phate_operator.reset_mds(mds=\"metric\")\n",
    "Y_mmds_raw = phate_operator.fit_transform(transposed_genotype_matrix)\n",
    "Y_mmds_pcs = phate_operator.fit_transform(projections_to_PCs)\n",
    "\n",
    "# Run PHATE with non-metric MDS on each one\n",
    "phate_operator.reset_mds(mds=\"nonmetric\")\n",
    "Y_nmmds_raw = phate_operator.fit_transform(transposed_genotype_matrix)\n",
    "Y_nmmds_pcs = phate_operator.fit_transform(projections_to_PCs)"
   ]
  },
  {
   "cell_type": "code",
   "execution_count": 49,
   "metadata": {
    "collapsed": true
   },
   "outputs": [
    {
     "name": "stdout",
     "output_type": "stream",
     "text": [
      "Using precomputed diffusion operator...\n",
      "Using precomputed diffusion potential...\n",
      "Embedding data using nonmetric MDS...\n",
      "Embedded data in 53.97 seconds.\n",
      "Finished PHATE embedding in 53.97 seconds.\n",
      "\n",
      "Using precomputed diffusion operator...\n",
      "Using precomputed diffusion potential...\n",
      "Embedding data using nonmetric MDS...\n",
      "Embedded data in 1028.05 seconds.\n",
      "Finished PHATE embedding in 1028.05 seconds.\n",
      "\n",
      "Using precomputed diffusion operator...\n",
      "Using precomputed diffusion potential...\n",
      "Embedding data using nonmetric MDS...\n",
      "Embedded data in 30480.76 seconds.\n",
      "Finished PHATE embedding in 30480.76 seconds.\n",
      "\n",
      "Using precomputed diffusion operator...\n",
      "Using precomputed diffusion potential...\n",
      "Embedding data using nonmetric MDS...\n",
      "Embedded data in 2569.61 seconds.\n",
      "Finished PHATE embedding in 2569.61 seconds.\n",
      "\n",
      "Using precomputed diffusion operator...\n",
      "Using precomputed diffusion potential...\n",
      "Embedding data using nonmetric MDS...\n",
      "Embedded data in 2353.35 seconds.\n",
      "Finished PHATE embedding in 2353.35 seconds.\n",
      "\n",
      "Using precomputed diffusion operator...\n",
      "Using precomputed diffusion potential...\n",
      "Embedding data using nonmetric MDS...\n",
      "Embedded data in 1693.67 seconds.\n",
      "Finished PHATE embedding in 1693.67 seconds.\n",
      "\n",
      "Using precomputed diffusion operator...\n",
      "Using precomputed diffusion potential...\n",
      "Embedding data using nonmetric MDS...\n",
      "Embedded data in 949.11 seconds.\n",
      "Finished PHATE embedding in 949.11 seconds.\n",
      "\n",
      "Using precomputed diffusion operator...\n",
      "Using precomputed diffusion potential...\n",
      "Embedding data using nonmetric MDS...\n",
      "Embedded data in 1004.41 seconds.\n",
      "Finished PHATE embedding in 1004.41 seconds.\n",
      "\n",
      "Using precomputed diffusion operator...\n",
      "Using precomputed diffusion potential...\n",
      "Embedding data using nonmetric MDS...\n",
      "Embedded data in 1049.83 seconds.\n",
      "Finished PHATE embedding in 1049.83 seconds.\n",
      "\n",
      "Using precomputed diffusion operator...\n",
      "Using precomputed diffusion potential...\n",
      "Embedding data using nonmetric MDS...\n",
      "Embedded data in 1091.85 seconds.\n",
      "Finished PHATE embedding in 1091.85 seconds.\n",
      "\n",
      "Using precomputed diffusion operator...\n",
      "Using precomputed diffusion potential...\n",
      "Embedding data using nonmetric MDS...\n",
      "Embedded data in 996.38 seconds.\n",
      "Finished PHATE embedding in 996.38 seconds.\n",
      "\n",
      "Using precomputed diffusion operator...\n",
      "Using precomputed diffusion potential...\n",
      "Embedding data using nonmetric MDS...\n",
      "Embedded data in 1035.32 seconds.\n",
      "Finished PHATE embedding in 1035.32 seconds.\n",
      "\n",
      "Using precomputed diffusion operator...\n",
      "Using precomputed diffusion potential...\n",
      "Embedding data using nonmetric MDS...\n",
      "Embedded data in 74064.06 seconds.\n",
      "Finished PHATE embedding in 74064.06 seconds.\n",
      "\n",
      "Using precomputed diffusion operator...\n",
      "Using precomputed diffusion potential...\n",
      "Embedding data using nonmetric MDS...\n",
      "Embedded data in 2634.39 seconds.\n",
      "Finished PHATE embedding in 2634.39 seconds.\n",
      "\n",
      "Using precomputed diffusion operator...\n",
      "Using precomputed diffusion potential...\n",
      "Embedding data using nonmetric MDS...\n",
      "Embedded data in 2563.40 seconds.\n",
      "Finished PHATE embedding in 2563.40 seconds.\n",
      "\n",
      "Using precomputed diffusion operator...\n",
      "Using precomputed diffusion potential...\n",
      "Embedding data using nonmetric MDS...\n"
     ]
    },
    {
     "ename": "KeyboardInterrupt",
     "evalue": "",
     "output_type": "error",
     "traceback": [
      "\u001b[0;31m---------------------------------------------------------------------------\u001b[0m",
      "\u001b[0;31mKeyboardInterrupt\u001b[0m                         Traceback (most recent call last)",
      "\u001b[0;32m<ipython-input-49-20df39bb192e>\u001b[0m in \u001b[0;36m<module>\u001b[0;34m()\u001b[0m\n\u001b[1;32m      7\u001b[0m     \u001b[0mtemp_comps\u001b[0m \u001b[0;34m=\u001b[0m \u001b[0mpca_full\u001b[0m\u001b[0;34m.\u001b[0m\u001b[0mcomponents_\u001b[0m\u001b[0;34m[\u001b[0m\u001b[0;34m:\u001b[0m\u001b[0mi\u001b[0m\u001b[0;34m*\u001b[0m\u001b[0;36m10\u001b[0m\u001b[0;34m,\u001b[0m\u001b[0;34m:\u001b[0m\u001b[0;34m]\u001b[0m\u001b[0;34m\u001b[0m\u001b[0m\n\u001b[1;32m      8\u001b[0m     \u001b[0mtemp_pc_projection\u001b[0m \u001b[0;34m=\u001b[0m \u001b[0mnp\u001b[0m\u001b[0;34m.\u001b[0m\u001b[0mdot\u001b[0m\u001b[0;34m(\u001b[0m\u001b[0;34m(\u001b[0m\u001b[0mtransposed_genotype_matrix\u001b[0m \u001b[0;34m-\u001b[0m \u001b[0mpca_full\u001b[0m\u001b[0;34m.\u001b[0m\u001b[0mmean_\u001b[0m\u001b[0;34m)\u001b[0m\u001b[0;34m,\u001b[0m \u001b[0mtemp_comps\u001b[0m\u001b[0;34m.\u001b[0m\u001b[0mT\u001b[0m\u001b[0;34m)\u001b[0m\u001b[0;34m\u001b[0m\u001b[0m\n\u001b[0;32m----> 9\u001b[0;31m     \u001b[0mtemp_projection\u001b[0m \u001b[0;34m=\u001b[0m \u001b[0mphate_operator\u001b[0m\u001b[0;34m.\u001b[0m\u001b[0mfit_transform\u001b[0m\u001b[0;34m(\u001b[0m\u001b[0mtemp_pc_projection\u001b[0m\u001b[0;34m)\u001b[0m\u001b[0;34m\u001b[0m\u001b[0m\n\u001b[0m\u001b[1;32m     10\u001b[0m     \u001b[0mnmmds_pcs\u001b[0m\u001b[0;34m.\u001b[0m\u001b[0mappend\u001b[0m\u001b[0;34m(\u001b[0m\u001b[0mtemp_projection\u001b[0m\u001b[0;34m)\u001b[0m\u001b[0;34m\u001b[0m\u001b[0m\n",
      "\u001b[0;32m~/.local/lib/python3.6/site-packages/phate-0.1-py3.6.egg/phate/phate.py\u001b[0m in \u001b[0;36mfit_transform\u001b[0;34m(self, X)\u001b[0m\n\u001b[1;32m    242\u001b[0m         self.embedding, self.diff_op, self.diff_potential = embed_phate(X, n_components=self.ndim, a=self.a, k=self.k, t=self.t,\n\u001b[1;32m    243\u001b[0m                                                                         \u001b[0mmds\u001b[0m\u001b[0;34m=\u001b[0m\u001b[0mself\u001b[0m\u001b[0;34m.\u001b[0m\u001b[0mmds\u001b[0m\u001b[0;34m,\u001b[0m \u001b[0mknn_dist\u001b[0m\u001b[0;34m=\u001b[0m\u001b[0mself\u001b[0m\u001b[0;34m.\u001b[0m\u001b[0mknn_dist\u001b[0m\u001b[0;34m,\u001b[0m \u001b[0mmds_dist\u001b[0m\u001b[0;34m=\u001b[0m\u001b[0mself\u001b[0m\u001b[0;34m.\u001b[0m\u001b[0mmds_dist\u001b[0m\u001b[0;34m,\u001b[0m \u001b[0mnjobs\u001b[0m\u001b[0;34m=\u001b[0m\u001b[0mself\u001b[0m\u001b[0;34m.\u001b[0m\u001b[0mnjobs\u001b[0m\u001b[0;34m,\u001b[0m\u001b[0;34m\u001b[0m\u001b[0m\n\u001b[0;32m--> 244\u001b[0;31m                                                                         diff_op = self.diff_op, diff_potential = self.diff_potential, random_state=self.random_state)\n\u001b[0m\u001b[1;32m    245\u001b[0m \u001b[0;34m\u001b[0m\u001b[0m\n\u001b[1;32m    246\u001b[0m         \u001b[0;32mreturn\u001b[0m \u001b[0mself\u001b[0m\u001b[0;34m.\u001b[0m\u001b[0membedding\u001b[0m\u001b[0;34m\u001b[0m\u001b[0m\n",
      "\u001b[0;32m~/.local/lib/python3.6/site-packages/phate-0.1-py3.6.egg/phate/phate.py\u001b[0m in \u001b[0;36membed_phate\u001b[0;34m(data, n_components, a, k, t, mds, knn_dist, mds_dist, diff_op, diff_potential, njobs, random_state)\u001b[0m\n\u001b[1;32m    116\u001b[0m     \u001b[0mtic\u001b[0m \u001b[0;34m=\u001b[0m \u001b[0mtime\u001b[0m\u001b[0;34m.\u001b[0m\u001b[0mtime\u001b[0m\u001b[0;34m(\u001b[0m\u001b[0;34m)\u001b[0m\u001b[0;34m\u001b[0m\u001b[0m\n\u001b[1;32m    117\u001b[0m     \u001b[0mprint\u001b[0m\u001b[0;34m(\u001b[0m\u001b[0;34m\"Embedding data using %s MDS...\"\u001b[0m\u001b[0;34m%\u001b[0m\u001b[0;34m(\u001b[0m\u001b[0mmds\u001b[0m\u001b[0;34m)\u001b[0m\u001b[0;34m)\u001b[0m\u001b[0;34m\u001b[0m\u001b[0m\n\u001b[0;32m--> 118\u001b[0;31m     \u001b[0membedding\u001b[0m \u001b[0;34m=\u001b[0m \u001b[0membed_MDS\u001b[0m\u001b[0;34m(\u001b[0m\u001b[0mdiff_potential\u001b[0m\u001b[0;34m,\u001b[0m \u001b[0mndim\u001b[0m\u001b[0;34m=\u001b[0m\u001b[0mn_components\u001b[0m\u001b[0;34m,\u001b[0m \u001b[0mhow\u001b[0m\u001b[0;34m=\u001b[0m\u001b[0mmds\u001b[0m\u001b[0;34m,\u001b[0m \u001b[0mdistance_metric\u001b[0m\u001b[0;34m=\u001b[0m\u001b[0mmds_dist\u001b[0m\u001b[0;34m,\u001b[0m \u001b[0mnjobs\u001b[0m\u001b[0;34m=\u001b[0m\u001b[0mnjobs\u001b[0m\u001b[0;34m,\u001b[0m \u001b[0mseed\u001b[0m\u001b[0;34m=\u001b[0m\u001b[0mrandom_state\u001b[0m\u001b[0;34m)\u001b[0m\u001b[0;34m\u001b[0m\u001b[0m\n\u001b[0m\u001b[1;32m    119\u001b[0m     \u001b[0mprint\u001b[0m\u001b[0;34m(\u001b[0m\u001b[0;34m\"Embedded data in %.2f seconds.\"\u001b[0m\u001b[0;34m%\u001b[0m\u001b[0;34m(\u001b[0m\u001b[0mtime\u001b[0m\u001b[0;34m.\u001b[0m\u001b[0mtime\u001b[0m\u001b[0;34m(\u001b[0m\u001b[0;34m)\u001b[0m \u001b[0;34m-\u001b[0m \u001b[0mtic\u001b[0m\u001b[0;34m)\u001b[0m\u001b[0;34m)\u001b[0m\u001b[0;34m\u001b[0m\u001b[0m\n\u001b[1;32m    120\u001b[0m     \u001b[0mprint\u001b[0m\u001b[0;34m(\u001b[0m\u001b[0;34m\"Finished PHATE embedding in %.2f seconds.\\n\"\u001b[0m\u001b[0;34m%\u001b[0m\u001b[0;34m(\u001b[0m\u001b[0mtime\u001b[0m\u001b[0;34m.\u001b[0m\u001b[0mtime\u001b[0m\u001b[0;34m(\u001b[0m\u001b[0;34m)\u001b[0m \u001b[0;34m-\u001b[0m \u001b[0mstart\u001b[0m\u001b[0;34m)\u001b[0m\u001b[0;34m)\u001b[0m\u001b[0;34m\u001b[0m\u001b[0m\n",
      "\u001b[0;32m~/.local/lib/python3.6/site-packages/phate-0.1-py3.6.egg/phate/mds.py\u001b[0m in \u001b[0;36membed_MDS\u001b[0;34m(X, ndim, how, distance_metric, njobs, seed)\u001b[0m\n\u001b[1;32m    110\u001b[0m         Y = MDS(n_components=ndim, metric=False, max_iter=3000, eps=1e-12,\n\u001b[1;32m    111\u001b[0m                      \u001b[0mdissimilarity\u001b[0m\u001b[0;34m=\u001b[0m\u001b[0;34m\"precomputed\"\u001b[0m\u001b[0;34m,\u001b[0m \u001b[0mrandom_state\u001b[0m\u001b[0;34m=\u001b[0m\u001b[0mseed\u001b[0m\u001b[0;34m,\u001b[0m \u001b[0mn_jobs\u001b[0m\u001b[0;34m=\u001b[0m\u001b[0mnjobs\u001b[0m\u001b[0;34m,\u001b[0m\u001b[0;34m\u001b[0m\u001b[0m\n\u001b[0;32m--> 112\u001b[0;31m                      n_init=1).fit_transform(X_dist,init=Y_mmds)\n\u001b[0m\u001b[1;32m    113\u001b[0m     \u001b[0;32melse\u001b[0m\u001b[0;34m:\u001b[0m\u001b[0;34m\u001b[0m\u001b[0m\n\u001b[1;32m    114\u001b[0m         \u001b[0;32mraise\u001b[0m \u001b[0mValueError\u001b[0m\u001b[0;34m(\u001b[0m\u001b[0;34m\"Allowable 'how' values for MDS: 'classic', 'metric', or 'nonmetric'. '%s' was passed.\"\u001b[0m\u001b[0;34m%\u001b[0m\u001b[0;34m(\u001b[0m\u001b[0mhow\u001b[0m\u001b[0;34m)\u001b[0m\u001b[0;34m)\u001b[0m\u001b[0;34m\u001b[0m\u001b[0m\n",
      "\u001b[0;32m~/anaconda3/lib/python3.6/site-packages/sklearn/manifold/mds.py\u001b[0m in \u001b[0;36mfit_transform\u001b[0;34m(self, X, y, init)\u001b[0m\n\u001b[1;32m    427\u001b[0m             \u001b[0mn_jobs\u001b[0m\u001b[0;34m=\u001b[0m\u001b[0mself\u001b[0m\u001b[0;34m.\u001b[0m\u001b[0mn_jobs\u001b[0m\u001b[0;34m,\u001b[0m \u001b[0mmax_iter\u001b[0m\u001b[0;34m=\u001b[0m\u001b[0mself\u001b[0m\u001b[0;34m.\u001b[0m\u001b[0mmax_iter\u001b[0m\u001b[0;34m,\u001b[0m \u001b[0mverbose\u001b[0m\u001b[0;34m=\u001b[0m\u001b[0mself\u001b[0m\u001b[0;34m.\u001b[0m\u001b[0mverbose\u001b[0m\u001b[0;34m,\u001b[0m\u001b[0;34m\u001b[0m\u001b[0m\n\u001b[1;32m    428\u001b[0m             \u001b[0meps\u001b[0m\u001b[0;34m=\u001b[0m\u001b[0mself\u001b[0m\u001b[0;34m.\u001b[0m\u001b[0meps\u001b[0m\u001b[0;34m,\u001b[0m \u001b[0mrandom_state\u001b[0m\u001b[0;34m=\u001b[0m\u001b[0mself\u001b[0m\u001b[0;34m.\u001b[0m\u001b[0mrandom_state\u001b[0m\u001b[0;34m,\u001b[0m\u001b[0;34m\u001b[0m\u001b[0m\n\u001b[0;32m--> 429\u001b[0;31m             return_n_iter=True)\n\u001b[0m\u001b[1;32m    430\u001b[0m \u001b[0;34m\u001b[0m\u001b[0m\n\u001b[1;32m    431\u001b[0m         \u001b[0;32mreturn\u001b[0m \u001b[0mself\u001b[0m\u001b[0;34m.\u001b[0m\u001b[0membedding_\u001b[0m\u001b[0;34m\u001b[0m\u001b[0m\n",
      "\u001b[0;32m~/anaconda3/lib/python3.6/site-packages/sklearn/manifold/mds.py\u001b[0m in \u001b[0;36msmacof\u001b[0;34m(dissimilarities, metric, n_components, init, n_init, n_jobs, max_iter, verbose, eps, random_state, return_n_iter)\u001b[0m\n\u001b[1;32m    252\u001b[0m                 \u001b[0mn_components\u001b[0m\u001b[0;34m=\u001b[0m\u001b[0mn_components\u001b[0m\u001b[0;34m,\u001b[0m \u001b[0minit\u001b[0m\u001b[0;34m=\u001b[0m\u001b[0minit\u001b[0m\u001b[0;34m,\u001b[0m\u001b[0;34m\u001b[0m\u001b[0m\n\u001b[1;32m    253\u001b[0m                 \u001b[0mmax_iter\u001b[0m\u001b[0;34m=\u001b[0m\u001b[0mmax_iter\u001b[0m\u001b[0;34m,\u001b[0m \u001b[0mverbose\u001b[0m\u001b[0;34m=\u001b[0m\u001b[0mverbose\u001b[0m\u001b[0;34m,\u001b[0m\u001b[0;34m\u001b[0m\u001b[0m\n\u001b[0;32m--> 254\u001b[0;31m                 eps=eps, random_state=random_state)\n\u001b[0m\u001b[1;32m    255\u001b[0m             \u001b[0;32mif\u001b[0m \u001b[0mbest_stress\u001b[0m \u001b[0;32mis\u001b[0m \u001b[0;32mNone\u001b[0m \u001b[0;32mor\u001b[0m \u001b[0mstress\u001b[0m \u001b[0;34m<\u001b[0m \u001b[0mbest_stress\u001b[0m\u001b[0;34m:\u001b[0m\u001b[0;34m\u001b[0m\u001b[0m\n\u001b[1;32m    256\u001b[0m                 \u001b[0mbest_stress\u001b[0m \u001b[0;34m=\u001b[0m \u001b[0mstress\u001b[0m\u001b[0;34m\u001b[0m\u001b[0m\n",
      "\u001b[0;32m~/anaconda3/lib/python3.6/site-packages/sklearn/manifold/mds.py\u001b[0m in \u001b[0;36m_smacof_single\u001b[0;34m(dissimilarities, metric, n_components, init, max_iter, verbose, eps, random_state)\u001b[0m\n\u001b[1;32m    101\u001b[0m \u001b[0;34m\u001b[0m\u001b[0m\n\u001b[1;32m    102\u001b[0m             \u001b[0;31m# Compute the disparities using a monotonic regression\u001b[0m\u001b[0;34m\u001b[0m\u001b[0;34m\u001b[0m\u001b[0m\n\u001b[0;32m--> 103\u001b[0;31m             \u001b[0mdisparities_flat\u001b[0m \u001b[0;34m=\u001b[0m \u001b[0mir\u001b[0m\u001b[0;34m.\u001b[0m\u001b[0mfit_transform\u001b[0m\u001b[0;34m(\u001b[0m\u001b[0msim_flat_w\u001b[0m\u001b[0;34m,\u001b[0m \u001b[0mdis_flat_w\u001b[0m\u001b[0;34m)\u001b[0m\u001b[0;34m\u001b[0m\u001b[0m\n\u001b[0m\u001b[1;32m    104\u001b[0m             \u001b[0mdisparities\u001b[0m \u001b[0;34m=\u001b[0m \u001b[0mdis_flat\u001b[0m\u001b[0;34m.\u001b[0m\u001b[0mcopy\u001b[0m\u001b[0;34m(\u001b[0m\u001b[0;34m)\u001b[0m\u001b[0;34m\u001b[0m\u001b[0m\n\u001b[1;32m    105\u001b[0m             \u001b[0mdisparities\u001b[0m\u001b[0;34m[\u001b[0m\u001b[0msim_flat\u001b[0m \u001b[0;34m!=\u001b[0m \u001b[0;36m0\u001b[0m\u001b[0;34m]\u001b[0m \u001b[0;34m=\u001b[0m \u001b[0mdisparities_flat\u001b[0m\u001b[0;34m\u001b[0m\u001b[0m\n",
      "\u001b[0;32m~/anaconda3/lib/python3.6/site-packages/sklearn/base.py\u001b[0m in \u001b[0;36mfit_transform\u001b[0;34m(self, X, y, **fit_params)\u001b[0m\n\u001b[1;32m    518\u001b[0m         \u001b[0;32melse\u001b[0m\u001b[0;34m:\u001b[0m\u001b[0;34m\u001b[0m\u001b[0m\n\u001b[1;32m    519\u001b[0m             \u001b[0;31m# fit method of arity 2 (supervised transformation)\u001b[0m\u001b[0;34m\u001b[0m\u001b[0;34m\u001b[0m\u001b[0m\n\u001b[0;32m--> 520\u001b[0;31m             \u001b[0;32mreturn\u001b[0m \u001b[0mself\u001b[0m\u001b[0;34m.\u001b[0m\u001b[0mfit\u001b[0m\u001b[0;34m(\u001b[0m\u001b[0mX\u001b[0m\u001b[0;34m,\u001b[0m \u001b[0my\u001b[0m\u001b[0;34m,\u001b[0m \u001b[0;34m**\u001b[0m\u001b[0mfit_params\u001b[0m\u001b[0;34m)\u001b[0m\u001b[0;34m.\u001b[0m\u001b[0mtransform\u001b[0m\u001b[0;34m(\u001b[0m\u001b[0mX\u001b[0m\u001b[0;34m)\u001b[0m\u001b[0;34m\u001b[0m\u001b[0m\n\u001b[0m\u001b[1;32m    521\u001b[0m \u001b[0;34m\u001b[0m\u001b[0m\n\u001b[1;32m    522\u001b[0m \u001b[0;34m\u001b[0m\u001b[0m\n",
      "\u001b[0;32m~/anaconda3/lib/python3.6/site-packages/sklearn/isotonic.py\u001b[0m in \u001b[0;36mtransform\u001b[0;34m(self, T)\u001b[0m\n\u001b[1;32m    387\u001b[0m         \u001b[0;32mif\u001b[0m \u001b[0mself\u001b[0m\u001b[0;34m.\u001b[0m\u001b[0mout_of_bounds\u001b[0m \u001b[0;34m==\u001b[0m \u001b[0;34m\"clip\"\u001b[0m\u001b[0;34m:\u001b[0m\u001b[0;34m\u001b[0m\u001b[0m\n\u001b[1;32m    388\u001b[0m             \u001b[0mT\u001b[0m \u001b[0;34m=\u001b[0m \u001b[0mnp\u001b[0m\u001b[0;34m.\u001b[0m\u001b[0mclip\u001b[0m\u001b[0;34m(\u001b[0m\u001b[0mT\u001b[0m\u001b[0;34m,\u001b[0m \u001b[0mself\u001b[0m\u001b[0;34m.\u001b[0m\u001b[0mX_min_\u001b[0m\u001b[0;34m,\u001b[0m \u001b[0mself\u001b[0m\u001b[0;34m.\u001b[0m\u001b[0mX_max_\u001b[0m\u001b[0;34m)\u001b[0m\u001b[0;34m\u001b[0m\u001b[0m\n\u001b[0;32m--> 389\u001b[0;31m         \u001b[0;32mreturn\u001b[0m \u001b[0mself\u001b[0m\u001b[0;34m.\u001b[0m\u001b[0mf_\u001b[0m\u001b[0;34m(\u001b[0m\u001b[0mT\u001b[0m\u001b[0;34m)\u001b[0m\u001b[0;34m\u001b[0m\u001b[0m\n\u001b[0m\u001b[1;32m    390\u001b[0m \u001b[0;34m\u001b[0m\u001b[0m\n\u001b[1;32m    391\u001b[0m     \u001b[0;32mdef\u001b[0m \u001b[0mpredict\u001b[0m\u001b[0;34m(\u001b[0m\u001b[0mself\u001b[0m\u001b[0;34m,\u001b[0m \u001b[0mT\u001b[0m\u001b[0;34m)\u001b[0m\u001b[0;34m:\u001b[0m\u001b[0;34m\u001b[0m\u001b[0m\n",
      "\u001b[0;32m~/anaconda3/lib/python3.6/site-packages/scipy/interpolate/polyint.py\u001b[0m in \u001b[0;36m__call__\u001b[0;34m(self, x)\u001b[0m\n\u001b[1;32m     77\u001b[0m         \"\"\"\n\u001b[1;32m     78\u001b[0m         \u001b[0mx\u001b[0m\u001b[0;34m,\u001b[0m \u001b[0mx_shape\u001b[0m \u001b[0;34m=\u001b[0m \u001b[0mself\u001b[0m\u001b[0;34m.\u001b[0m\u001b[0m_prepare_x\u001b[0m\u001b[0;34m(\u001b[0m\u001b[0mx\u001b[0m\u001b[0;34m)\u001b[0m\u001b[0;34m\u001b[0m\u001b[0m\n\u001b[0;32m---> 79\u001b[0;31m         \u001b[0my\u001b[0m \u001b[0;34m=\u001b[0m \u001b[0mself\u001b[0m\u001b[0;34m.\u001b[0m\u001b[0m_evaluate\u001b[0m\u001b[0;34m(\u001b[0m\u001b[0mx\u001b[0m\u001b[0;34m)\u001b[0m\u001b[0;34m\u001b[0m\u001b[0m\n\u001b[0m\u001b[1;32m     80\u001b[0m         \u001b[0;32mreturn\u001b[0m \u001b[0mself\u001b[0m\u001b[0;34m.\u001b[0m\u001b[0m_finish_y\u001b[0m\u001b[0;34m(\u001b[0m\u001b[0my\u001b[0m\u001b[0;34m,\u001b[0m \u001b[0mx_shape\u001b[0m\u001b[0;34m)\u001b[0m\u001b[0;34m\u001b[0m\u001b[0m\n\u001b[1;32m     81\u001b[0m \u001b[0;34m\u001b[0m\u001b[0m\n",
      "\u001b[0;32m~/anaconda3/lib/python3.6/site-packages/scipy/interpolate/interpolate.py\u001b[0m in \u001b[0;36m_evaluate\u001b[0;34m(self, x_new)\u001b[0m\n\u001b[1;32m    606\u001b[0m         \u001b[0;31m#    The behavior is set by the bounds_error variable.\u001b[0m\u001b[0;34m\u001b[0m\u001b[0;34m\u001b[0m\u001b[0m\n\u001b[1;32m    607\u001b[0m         \u001b[0mx_new\u001b[0m \u001b[0;34m=\u001b[0m \u001b[0masarray\u001b[0m\u001b[0;34m(\u001b[0m\u001b[0mx_new\u001b[0m\u001b[0;34m)\u001b[0m\u001b[0;34m\u001b[0m\u001b[0m\n\u001b[0;32m--> 608\u001b[0;31m         \u001b[0my_new\u001b[0m \u001b[0;34m=\u001b[0m \u001b[0mself\u001b[0m\u001b[0;34m.\u001b[0m\u001b[0m_call\u001b[0m\u001b[0;34m(\u001b[0m\u001b[0mself\u001b[0m\u001b[0;34m,\u001b[0m \u001b[0mx_new\u001b[0m\u001b[0;34m)\u001b[0m\u001b[0;34m\u001b[0m\u001b[0m\n\u001b[0m\u001b[1;32m    609\u001b[0m         \u001b[0;32mif\u001b[0m \u001b[0;32mnot\u001b[0m \u001b[0mself\u001b[0m\u001b[0;34m.\u001b[0m\u001b[0m_extrapolate\u001b[0m\u001b[0;34m:\u001b[0m\u001b[0;34m\u001b[0m\u001b[0m\n\u001b[1;32m    610\u001b[0m             \u001b[0mbelow_bounds\u001b[0m\u001b[0;34m,\u001b[0m \u001b[0mabove_bounds\u001b[0m \u001b[0;34m=\u001b[0m \u001b[0mself\u001b[0m\u001b[0;34m.\u001b[0m\u001b[0m_check_bounds\u001b[0m\u001b[0;34m(\u001b[0m\u001b[0mx_new\u001b[0m\u001b[0;34m)\u001b[0m\u001b[0;34m\u001b[0m\u001b[0m\n",
      "\u001b[0;32m~/anaconda3/lib/python3.6/site-packages/scipy/interpolate/interpolate.py\u001b[0m in \u001b[0;36m_call_linear_np\u001b[0;34m(self, x_new)\u001b[0m\n\u001b[1;32m    545\u001b[0m     \u001b[0;32mdef\u001b[0m \u001b[0m_call_linear_np\u001b[0m\u001b[0;34m(\u001b[0m\u001b[0mself\u001b[0m\u001b[0;34m,\u001b[0m \u001b[0mx_new\u001b[0m\u001b[0;34m)\u001b[0m\u001b[0;34m:\u001b[0m\u001b[0;34m\u001b[0m\u001b[0m\n\u001b[1;32m    546\u001b[0m         \u001b[0;31m# Note that out-of-bounds values are taken care of in self._evaluate\u001b[0m\u001b[0;34m\u001b[0m\u001b[0;34m\u001b[0m\u001b[0m\n\u001b[0;32m--> 547\u001b[0;31m         \u001b[0;32mreturn\u001b[0m \u001b[0mnp\u001b[0m\u001b[0;34m.\u001b[0m\u001b[0minterp\u001b[0m\u001b[0;34m(\u001b[0m\u001b[0mx_new\u001b[0m\u001b[0;34m,\u001b[0m \u001b[0mself\u001b[0m\u001b[0;34m.\u001b[0m\u001b[0mx\u001b[0m\u001b[0;34m,\u001b[0m \u001b[0mself\u001b[0m\u001b[0;34m.\u001b[0m\u001b[0my\u001b[0m\u001b[0;34m)\u001b[0m\u001b[0;34m\u001b[0m\u001b[0m\n\u001b[0m\u001b[1;32m    548\u001b[0m \u001b[0;34m\u001b[0m\u001b[0m\n\u001b[1;32m    549\u001b[0m     \u001b[0;32mdef\u001b[0m \u001b[0m_call_linear\u001b[0m\u001b[0;34m(\u001b[0m\u001b[0mself\u001b[0m\u001b[0;34m,\u001b[0m \u001b[0mx_new\u001b[0m\u001b[0;34m)\u001b[0m\u001b[0;34m:\u001b[0m\u001b[0;34m\u001b[0m\u001b[0m\n",
      "\u001b[0;32m~/anaconda3/lib/python3.6/site-packages/numpy/lib/function_base.py\u001b[0m in \u001b[0;36minterp\u001b[0;34m(x, xp, fp, left, right, period)\u001b[0m\n\u001b[1;32m   2042\u001b[0m             \u001b[0;32mreturn\u001b[0m \u001b[0minterp_func\u001b[0m\u001b[0;34m(\u001b[0m\u001b[0;34m[\u001b[0m\u001b[0mx\u001b[0m\u001b[0;34m]\u001b[0m\u001b[0;34m,\u001b[0m \u001b[0mxp\u001b[0m\u001b[0;34m,\u001b[0m \u001b[0mfp\u001b[0m\u001b[0;34m,\u001b[0m \u001b[0mleft\u001b[0m\u001b[0;34m,\u001b[0m \u001b[0mright\u001b[0m\u001b[0;34m)\u001b[0m\u001b[0;34m.\u001b[0m\u001b[0mitem\u001b[0m\u001b[0;34m(\u001b[0m\u001b[0;34m)\u001b[0m\u001b[0;34m\u001b[0m\u001b[0m\n\u001b[1;32m   2043\u001b[0m         \u001b[0;32melse\u001b[0m\u001b[0;34m:\u001b[0m\u001b[0;34m\u001b[0m\u001b[0m\n\u001b[0;32m-> 2044\u001b[0;31m             \u001b[0;32mreturn\u001b[0m \u001b[0minterp_func\u001b[0m\u001b[0;34m(\u001b[0m\u001b[0mx\u001b[0m\u001b[0;34m,\u001b[0m \u001b[0mxp\u001b[0m\u001b[0;34m,\u001b[0m \u001b[0mfp\u001b[0m\u001b[0;34m,\u001b[0m \u001b[0mleft\u001b[0m\u001b[0;34m,\u001b[0m \u001b[0mright\u001b[0m\u001b[0;34m)\u001b[0m\u001b[0;34m\u001b[0m\u001b[0m\n\u001b[0m\u001b[1;32m   2045\u001b[0m     \u001b[0;32melse\u001b[0m\u001b[0;34m:\u001b[0m\u001b[0;34m\u001b[0m\u001b[0m\n\u001b[1;32m   2046\u001b[0m         \u001b[0;32mif\u001b[0m \u001b[0mperiod\u001b[0m \u001b[0;34m==\u001b[0m \u001b[0;36m0\u001b[0m\u001b[0;34m:\u001b[0m\u001b[0;34m\u001b[0m\u001b[0m\n",
      "\u001b[0;31mKeyboardInterrupt\u001b[0m: "
     ]
    }
   ],
   "source": [
    "# Try out PHATE on other PC embeddings.\n",
    "phate_operator.reset_mds(mds=\"nonmetric\")\n",
    "\n",
    "nmmds_pcs = []\n",
    "\n",
    "for i in range(1, 15):\n",
    "    temp_comps = pca_full.components_[:i*10,:]\n",
    "    temp_pc_projection = np.dot((transposed_genotype_matrix - pca_full.mean_), temp_comps.T)\n",
    "    temp_projection = phate_operator.fit_transform(temp_pc_projection)\n",
    "    nmmds_pcs.append(temp_projection)"
   ]
  },
  {
   "cell_type": "code",
   "execution_count": 51,
   "metadata": {
    "collapsed": true,
    "scrolled": true
   },
   "outputs": [],
   "source": [
    "# MDS (skipping the PHATE bit)\n",
    "mds_raw = MDS().fit_transform(transposed_genotype_matrix)\n",
    "mds_pc30 = MDS().fit_transform(projections_to_PCs)"
   ]
  },
  {
   "cell_type": "code",
   "execution_count": 90,
   "metadata": {
    "collapsed": true
   },
   "outputs": [
    {
     "name": "stdout",
     "output_type": "stream",
     "text": [
      "Finished with MDS projection of 10 PCs\n",
      "Finished with MDS projection of 20 PCs\n",
      "Finished with MDS projection of 30 PCs\n",
      "Finished with MDS projection of 40 PCs\n",
      "Finished with MDS projection of 50 PCs\n",
      "Finished with MDS projection of 60 PCs\n",
      "Finished with MDS projection of 70 PCs\n",
      "Finished with MDS projection of 80 PCs\n",
      "Finished with MDS projection of 90 PCs\n",
      "Finished with MDS projection of 100 PCs\n",
      "Finished with MDS projection of 110 PCs\n",
      "Finished with MDS projection of 120 PCs\n",
      "Finished with MDS projection of 130 PCs\n",
      "Finished with MDS projection of 140 PCs\n",
      "Finished with MDS projection of 150 PCs\n",
      "Finished with MDS projection of 160 PCs\n",
      "Finished with MDS projection of 170 PCs\n",
      "Finished with MDS projection of 180 PCs\n",
      "Finished with MDS projection of 190 PCs\n",
      "Finished with MDS projection of 200 PCs\n",
      "Finished with MDS projection of 210 PCs\n",
      "Finished with MDS projection of 220 PCs\n",
      "Finished with MDS projection of 230 PCs\n",
      "Finished with MDS projection of 240 PCs\n",
      "Finished with MDS projection of 250 PCs\n"
     ]
    }
   ],
   "source": [
    "mds_pcs = []\n",
    "\n",
    "for p in pc_list:\n",
    "    #temp_comps = pca_full.components_[:i*10,:]\n",
    "    #temp_pc_projection = np.dot((transposed_genotype_matrix - pca_full.mean_), temp_comps.T)\n",
    "    temp_projection = MDS().fit_transform(p)\n",
    "    mds_pcs.append(temp_projection)\n",
    "    print(\"Finished with MDS projection of \" + str(p.shape[1]) + \" PCs\")"
   ]
  },
  {
   "cell_type": "code",
   "execution_count": 102,
   "metadata": {
    "collapsed": true
   },
   "outputs": [
    {
     "name": "stdout",
     "output_type": "stream",
     "text": [
      "Finished creating interactive HTML for MDS with 10 PCs\n",
      "Finished creating interactive HTML for MDS with 20 PCs\n",
      "Finished creating interactive HTML for MDS with 30 PCs\n",
      "Finished creating interactive HTML for MDS with 40 PCs\n",
      "Finished creating interactive HTML for MDS with 50 PCs\n",
      "Finished creating interactive HTML for MDS with 60 PCs\n",
      "Finished creating interactive HTML for MDS with 70 PCs\n",
      "Finished creating interactive HTML for MDS with 80 PCs\n",
      "Finished creating interactive HTML for MDS with 90 PCs\n",
      "Finished creating interactive HTML for MDS with 100 PCs\n",
      "Finished creating interactive HTML for MDS with 110 PCs\n",
      "Finished creating interactive HTML for MDS with 120 PCs\n",
      "Finished creating interactive HTML for MDS with 130 PCs\n",
      "Finished creating interactive HTML for MDS with 140 PCs\n",
      "Finished creating interactive HTML for MDS with 150 PCs\n",
      "Finished creating interactive HTML for MDS with 160 PCs\n",
      "Finished creating interactive HTML for MDS with 170 PCs\n",
      "Finished creating interactive HTML for MDS with 180 PCs\n",
      "Finished creating interactive HTML for MDS with 190 PCs\n",
      "Finished creating interactive HTML for MDS with 200 PCs\n",
      "Finished creating interactive HTML for MDS with 210 PCs\n",
      "Finished creating interactive HTML for MDS with 220 PCs\n",
      "Finished creating interactive HTML for MDS with 230 PCs\n",
      "Finished creating interactive HTML for MDS with 240 PCs\n",
      "Finished creating interactive HTML for MDS with 250 PCs\n"
     ]
    }
   ],
   "source": [
    "for p in range(0, len(pc_list)):\n",
    "    plot_bokeh(mds_pcs[p], 'MDS on ' + str(pc_list[p].shape[1]) + 'PCs', 'MDS_' + str(pc_list[p].shape[1]) + 'PC',\n",
    "               'MDS with ' + str(pc_list[p].shape[1]) + 'PCs')\n",
    "    print(\"Finished creating interactive HTML for MDS with \" + str(pc_list[p].shape[1]) + \" PCs\")"
   ]
  },
  {
   "cell_type": "code",
   "execution_count": 105,
   "metadata": {
    "collapsed": true
   },
   "outputs": [
    {
     "name": "stdout",
     "output_type": "stream",
     "text": [
      "Finished with MDS projection of1PCs\n",
      "Finished with MDS projection of2PCs\n",
      "Finished with MDS projection of3PCs\n",
      "Finished with MDS projection of4PCs\n",
      "Finished with MDS projection of5PCs\n",
      "Finished with MDS projection of6PCs\n",
      "Finished with MDS projection of7PCs\n",
      "Finished with MDS projection of8PCs\n",
      "Finished with MDS projection of9PCs\n",
      "Finished creating interactive HTML for MDS with 10 PCs\n",
      "Finished creating interactive HTML for MDS with 20 PCs\n",
      "Finished creating interactive HTML for MDS with 30 PCs\n",
      "Finished creating interactive HTML for MDS with 40 PCs\n",
      "Finished creating interactive HTML for MDS with 50 PCs\n",
      "Finished creating interactive HTML for MDS with 60 PCs\n",
      "Finished creating interactive HTML for MDS with 70 PCs\n",
      "Finished creating interactive HTML for MDS with 80 PCs\n",
      "Finished creating interactive HTML for MDS with 90 PCs\n"
     ]
    }
   ],
   "source": [
    "pc_list2 = []\n",
    "for i in range(1, 10):\n",
    "    comps = PCA(n_components=i).fit(transposed_genotype_matrix)\n",
    "    proj = comps.transform(transposed_genotype_matrix)\n",
    "    pc_list2.append(proj)\n",
    "\n",
    "mds_pcs2 = []\n",
    "\n",
    "for p in pc_list2:\n",
    "    temp_projection = MDS().fit_transform(p)\n",
    "    mds_pcs2.append(temp_projection)\n",
    "    print(\"Finished with MDS projection of\" + str(p.shape[1]) + \"PCs\")\n",
    "\n",
    "for p in range(0, len(pc_list2)):\n",
    "    plot_bokeh(mds_pcs2[p], 'MDS on ' + str(pc_list2[p].shape[1]) + 'PCs', 'MDS_' + str(pc_list2[p].shape[1]) + 'PC',\n",
    "               'MDS with ' + str(pc_list2[p].shape[1]) + 'PCs')\n",
    "    print(\"Finished creating interactive HTML for MDS with \" + str(pc_list[p].shape[1]) + \" PCs\")"
   ]
  },
  {
   "cell_type": "code",
   "execution_count": 106,
   "metadata": {
    "collapsed": true
   },
   "outputs": [],
   "source": [
    "pc_list_full = pc_list2 + pc_list"
   ]
  },
  {
   "cell_type": "code",
   "execution_count": 55,
   "metadata": {},
   "outputs": [
    {
     "name": "stdout",
     "output_type": "stream",
     "text": [
      "Finished t-SNE projection for 2 PCs.\n",
      "Finished t-SNE projection for 3 PCs.\n",
      "Finished t-SNE projection for 4 PCs.\n",
      "Finished t-SNE projection for 5 PCs.\n",
      "Finished t-SNE projection for 6 PCs.\n",
      "Finished t-SNE projection for 7 PCs.\n",
      "Finished t-SNE projection for 8 PCs.\n",
      "Finished t-SNE projection for 9 PCs.\n",
      "Finished t-SNE projection for 10 PCs.\n",
      "Finished t-SNE projection for 11 PCs.\n",
      "Finished t-SNE projection for 12 PCs.\n",
      "Finished t-SNE projection for 13 PCs.\n",
      "Finished t-SNE projection for 14 PCs.\n",
      "Finished t-SNE projection for 15 PCs.\n",
      "Finished t-SNE projection for 16 PCs.\n",
      "Finished t-SNE projection for 17 PCs.\n",
      "Finished t-SNE projection for 18 PCs.\n",
      "Finished t-SNE projection for 19 PCs.\n",
      "Finished t-SNE projection for 20 PCs.\n",
      "Finished t-SNE projection for 30 PCs.\n",
      "Finished t-SNE projection for 40 PCs.\n",
      "Finished t-SNE projection for 50 PCs.\n",
      "Finished t-SNE projection for 60 PCs.\n",
      "Finished t-SNE projection for 70 PCs.\n",
      "Finished t-SNE projection for 80 PCs.\n",
      "Finished t-SNE projection for 90 PCs.\n",
      "Finished t-SNE projection for 100 PCs.\n"
     ]
    }
   ],
   "source": [
    "# t-SNE transformations\n",
    "pc_list = [2,3,4,5,6,7,8,9,10,11,12,13,14,15,16,17,18,19,20,30,40,50,60,70,80,90,100]\n",
    "out_dir = '/Volumes/Stockage/alex/1000G/projections'\n",
    "\n",
    "for p in pc_list:\n",
    "    temp_projection = TSNE(n_components = 2).fit_transform(projections_to_PCs[:,0:p])\n",
    "    np.savetxt(os.path.join(out_dir,'1000G_TSNE_PC' + str(p)),temp_projection)\n",
    "    print(\"Finished t-SNE projection for \" + str(p) + \" PCs.\")"
   ]
  },
  {
   "cell_type": "code",
   "execution_count": 121,
   "metadata": {
    "collapsed": true
   },
   "outputs": [],
   "source": [
    "# t-SNE projection on non-transformed data\n",
    "tsne_raw = TSNE(n_components = 2).fit_transform(transposed_genotype_matrix)"
   ]
  },
  {
   "cell_type": "code",
   "execution_count": 107,
   "metadata": {
    "collapsed": true
   },
   "outputs": [
    {
     "name": "stdout",
     "output_type": "stream",
     "text": [
      "Using precomputed diffusion operator...\n",
      "Using precomputed diffusion potential...\n",
      "Embedding data using nonmetric MDS...\n",
      "Embedded data in 1039.94 seconds.\n",
      "Finished PHATE embedding in 1039.94 seconds.\n",
      "\n",
      "Using precomputed diffusion operator...\n",
      "Using precomputed diffusion potential...\n",
      "Embedding data using nonmetric MDS...\n",
      "Embedded data in 1039.44 seconds.\n",
      "Finished PHATE embedding in 1039.44 seconds.\n",
      "\n",
      "Using precomputed diffusion operator...\n",
      "Using precomputed diffusion potential...\n",
      "Embedding data using nonmetric MDS...\n",
      "Embedded data in 16043.37 seconds.\n",
      "Finished PHATE embedding in 16043.37 seconds.\n",
      "\n",
      "Using precomputed diffusion operator...\n",
      "Using precomputed diffusion potential...\n",
      "Embedding data using nonmetric MDS...\n",
      "Embedded data in 1050.03 seconds.\n",
      "Finished PHATE embedding in 1050.03 seconds.\n",
      "\n",
      "Using precomputed diffusion operator...\n",
      "Using precomputed diffusion potential...\n",
      "Embedding data using nonmetric MDS...\n",
      "Embedded data in 1050.91 seconds.\n",
      "Finished PHATE embedding in 1050.91 seconds.\n",
      "\n",
      "Using precomputed diffusion operator...\n",
      "Using precomputed diffusion potential...\n",
      "Embedding data using nonmetric MDS...\n",
      "Embedded data in 987.75 seconds.\n",
      "Finished PHATE embedding in 987.75 seconds.\n",
      "\n",
      "Using precomputed diffusion operator...\n",
      "Using precomputed diffusion potential...\n",
      "Embedding data using nonmetric MDS...\n",
      "Embedded data in 1044.74 seconds.\n",
      "Finished PHATE embedding in 1044.75 seconds.\n",
      "\n",
      "Using precomputed diffusion operator...\n",
      "Using precomputed diffusion potential...\n",
      "Embedding data using nonmetric MDS...\n",
      "Embedded data in 1021.52 seconds.\n",
      "Finished PHATE embedding in 1021.52 seconds.\n",
      "\n",
      "Using precomputed diffusion operator...\n",
      "Using precomputed diffusion potential...\n",
      "Embedding data using nonmetric MDS...\n",
      "Embedded data in 1022.42 seconds.\n",
      "Finished PHATE embedding in 1022.42 seconds.\n",
      "\n",
      "Using precomputed diffusion operator...\n",
      "Using precomputed diffusion potential...\n",
      "Embedding data using nonmetric MDS...\n",
      "Embedded data in 15528.17 seconds.\n",
      "Finished PHATE embedding in 15528.17 seconds.\n",
      "\n",
      "Using precomputed diffusion operator...\n",
      "Using precomputed diffusion potential...\n",
      "Embedding data using nonmetric MDS...\n",
      "Embedded data in 1027.63 seconds.\n",
      "Finished PHATE embedding in 1027.63 seconds.\n",
      "\n",
      "Using precomputed diffusion operator...\n",
      "Using precomputed diffusion potential...\n",
      "Embedding data using nonmetric MDS...\n",
      "Embedded data in 1044.05 seconds.\n",
      "Finished PHATE embedding in 1044.05 seconds.\n",
      "\n",
      "Using precomputed diffusion operator...\n",
      "Using precomputed diffusion potential...\n",
      "Embedding data using nonmetric MDS...\n",
      "Embedded data in 1069.19 seconds.\n",
      "Finished PHATE embedding in 1069.19 seconds.\n",
      "\n",
      "Using precomputed diffusion operator...\n",
      "Using precomputed diffusion potential...\n",
      "Embedding data using nonmetric MDS...\n",
      "Embedded data in 1053.19 seconds.\n",
      "Finished PHATE embedding in 1053.19 seconds.\n",
      "\n",
      "Using precomputed diffusion operator...\n",
      "Using precomputed diffusion potential...\n",
      "Embedding data using nonmetric MDS...\n",
      "Embedded data in 1047.41 seconds.\n",
      "Finished PHATE embedding in 1047.41 seconds.\n",
      "\n",
      "Using precomputed diffusion operator...\n",
      "Using precomputed diffusion potential...\n",
      "Embedding data using nonmetric MDS...\n",
      "Embedded data in 1023.25 seconds.\n",
      "Finished PHATE embedding in 1023.25 seconds.\n",
      "\n",
      "Using precomputed diffusion operator...\n",
      "Using precomputed diffusion potential...\n",
      "Embedding data using nonmetric MDS...\n",
      "Embedded data in 1053.40 seconds.\n",
      "Finished PHATE embedding in 1053.40 seconds.\n",
      "\n",
      "Using precomputed diffusion operator...\n",
      "Using precomputed diffusion potential...\n",
      "Embedding data using nonmetric MDS...\n",
      "Embedded data in 1021.18 seconds.\n",
      "Finished PHATE embedding in 1021.18 seconds.\n",
      "\n",
      "Using precomputed diffusion operator...\n",
      "Using precomputed diffusion potential...\n",
      "Embedding data using nonmetric MDS...\n",
      "Embedded data in 1076.04 seconds.\n",
      "Finished PHATE embedding in 1076.04 seconds.\n",
      "\n",
      "Using precomputed diffusion operator...\n",
      "Using precomputed diffusion potential...\n",
      "Embedding data using nonmetric MDS...\n",
      "Embedded data in 1073.84 seconds.\n",
      "Finished PHATE embedding in 1073.84 seconds.\n",
      "\n",
      "Using precomputed diffusion operator...\n",
      "Using precomputed diffusion potential...\n",
      "Embedding data using nonmetric MDS...\n",
      "Embedded data in 1050.22 seconds.\n",
      "Finished PHATE embedding in 1050.22 seconds.\n",
      "\n",
      "Using precomputed diffusion operator...\n",
      "Using precomputed diffusion potential...\n",
      "Embedding data using nonmetric MDS...\n",
      "Embedded data in 1067.01 seconds.\n",
      "Finished PHATE embedding in 1067.01 seconds.\n",
      "\n",
      "Using precomputed diffusion operator...\n",
      "Using precomputed diffusion potential...\n",
      "Embedding data using nonmetric MDS...\n",
      "Embedded data in 1021.52 seconds.\n",
      "Finished PHATE embedding in 1021.52 seconds.\n",
      "\n",
      "Using precomputed diffusion operator...\n",
      "Using precomputed diffusion potential...\n",
      "Embedding data using nonmetric MDS...\n",
      "Embedded data in 16295.51 seconds.\n",
      "Finished PHATE embedding in 16295.51 seconds.\n",
      "\n",
      "Using precomputed diffusion operator...\n",
      "Using precomputed diffusion potential...\n",
      "Embedding data using nonmetric MDS...\n",
      "Embedded data in 1030.89 seconds.\n",
      "Finished PHATE embedding in 1030.89 seconds.\n",
      "\n",
      "Using precomputed diffusion operator...\n",
      "Using precomputed diffusion potential...\n",
      "Embedding data using nonmetric MDS...\n",
      "Embedded data in 1025.00 seconds.\n",
      "Finished PHATE embedding in 1025.00 seconds.\n",
      "\n",
      "Using precomputed diffusion operator...\n",
      "Using precomputed diffusion potential...\n",
      "Embedding data using nonmetric MDS...\n",
      "Embedded data in 1050.86 seconds.\n",
      "Finished PHATE embedding in 1050.86 seconds.\n",
      "\n",
      "Using precomputed diffusion operator...\n",
      "Using precomputed diffusion potential...\n",
      "Embedding data using nonmetric MDS...\n",
      "Embedded data in 1041.29 seconds.\n",
      "Finished PHATE embedding in 1041.29 seconds.\n",
      "\n",
      "Using precomputed diffusion operator...\n",
      "Using precomputed diffusion potential...\n",
      "Embedding data using nonmetric MDS...\n",
      "Embedded data in 994.65 seconds.\n",
      "Finished PHATE embedding in 994.65 seconds.\n",
      "\n",
      "Using precomputed diffusion operator...\n",
      "Using precomputed diffusion potential...\n",
      "Embedding data using nonmetric MDS...\n",
      "Embedded data in 1019.90 seconds.\n",
      "Finished PHATE embedding in 1019.90 seconds.\n",
      "\n",
      "Using precomputed diffusion operator...\n",
      "Using precomputed diffusion potential...\n",
      "Embedding data using nonmetric MDS...\n",
      "Embedded data in 1048.76 seconds.\n",
      "Finished PHATE embedding in 1048.76 seconds.\n",
      "\n",
      "Using precomputed diffusion operator...\n",
      "Using precomputed diffusion potential...\n",
      "Embedding data using nonmetric MDS...\n",
      "Embedded data in 1102.85 seconds.\n",
      "Finished PHATE embedding in 1102.85 seconds.\n",
      "\n",
      "Using precomputed diffusion operator...\n",
      "Using precomputed diffusion potential...\n",
      "Embedding data using nonmetric MDS...\n",
      "Embedded data in 1020.89 seconds.\n",
      "Finished PHATE embedding in 1020.89 seconds.\n",
      "\n",
      "Using precomputed diffusion operator...\n",
      "Using precomputed diffusion potential...\n",
      "Embedding data using nonmetric MDS...\n",
      "Embedded data in 1035.10 seconds.\n",
      "Finished PHATE embedding in 1035.10 seconds.\n",
      "\n"
     ]
    }
   ],
   "source": [
    "phate_pcs = []\n",
    "phate_operator.reset_mds(mds=\"nonmetric\")\n",
    "\n",
    "for p in pc_list_full:\n",
    "    temp_projection = phate_operator.fit_transform(p)\n",
    "    phate_pcs.append(temp_projection)"
   ]
  },
  {
   "cell_type": "code",
   "execution_count": 126,
   "metadata": {
    "collapsed": true
   },
   "outputs": [
    {
     "name": "stdout",
     "output_type": "stream",
     "text": [
      "Appended tSNE projection for 1 PCs with perplexity 5.\n",
      "Appended tSNE projection for 1 PCs with perplexity 30.\n",
      "Appended tSNE projection for 1 PCs with perplexity 50.\n",
      "Appended tSNE projection for 1 PCs with perplexity 100.\n",
      "Appended tSNE projection for 2 PCs with perplexity 5.\n",
      "Appended tSNE projection for 2 PCs with perplexity 30.\n",
      "Appended tSNE projection for 2 PCs with perplexity 50.\n",
      "Appended tSNE projection for 2 PCs with perplexity 100.\n",
      "Appended tSNE projection for 3 PCs with perplexity 5.\n",
      "Appended tSNE projection for 3 PCs with perplexity 30.\n",
      "Appended tSNE projection for 3 PCs with perplexity 50.\n",
      "Appended tSNE projection for 3 PCs with perplexity 100.\n",
      "Appended tSNE projection for 4 PCs with perplexity 5.\n",
      "Appended tSNE projection for 4 PCs with perplexity 30.\n",
      "Appended tSNE projection for 4 PCs with perplexity 50.\n",
      "Appended tSNE projection for 4 PCs with perplexity 100.\n",
      "Appended tSNE projection for 5 PCs with perplexity 5.\n",
      "Appended tSNE projection for 5 PCs with perplexity 30.\n",
      "Appended tSNE projection for 5 PCs with perplexity 50.\n",
      "Appended tSNE projection for 5 PCs with perplexity 100.\n",
      "Appended tSNE projection for 6 PCs with perplexity 5.\n",
      "Appended tSNE projection for 6 PCs with perplexity 30.\n",
      "Appended tSNE projection for 6 PCs with perplexity 50.\n",
      "Appended tSNE projection for 6 PCs with perplexity 100.\n",
      "Appended tSNE projection for 7 PCs with perplexity 5.\n",
      "Appended tSNE projection for 7 PCs with perplexity 30.\n",
      "Appended tSNE projection for 7 PCs with perplexity 50.\n",
      "Appended tSNE projection for 7 PCs with perplexity 100.\n",
      "Appended tSNE projection for 8 PCs with perplexity 5.\n",
      "Appended tSNE projection for 8 PCs with perplexity 30.\n",
      "Appended tSNE projection for 8 PCs with perplexity 50.\n",
      "Appended tSNE projection for 8 PCs with perplexity 100.\n",
      "Appended tSNE projection for 9 PCs with perplexity 5.\n",
      "Appended tSNE projection for 9 PCs with perplexity 30.\n",
      "Appended tSNE projection for 9 PCs with perplexity 50.\n",
      "Appended tSNE projection for 9 PCs with perplexity 100.\n",
      "Appended tSNE projection for 10 PCs with perplexity 5.\n",
      "Appended tSNE projection for 10 PCs with perplexity 30.\n",
      "Appended tSNE projection for 10 PCs with perplexity 50.\n",
      "Appended tSNE projection for 10 PCs with perplexity 100.\n",
      "Appended tSNE projection for 20 PCs with perplexity 5.\n",
      "Appended tSNE projection for 20 PCs with perplexity 30.\n",
      "Appended tSNE projection for 20 PCs with perplexity 50.\n",
      "Appended tSNE projection for 20 PCs with perplexity 100.\n",
      "Appended tSNE projection for 30 PCs with perplexity 5.\n",
      "Appended tSNE projection for 30 PCs with perplexity 30.\n",
      "Appended tSNE projection for 30 PCs with perplexity 50.\n",
      "Appended tSNE projection for 30 PCs with perplexity 100.\n",
      "Appended tSNE projection for 40 PCs with perplexity 5.\n",
      "Appended tSNE projection for 40 PCs with perplexity 30.\n",
      "Appended tSNE projection for 40 PCs with perplexity 50.\n",
      "Appended tSNE projection for 40 PCs with perplexity 100.\n",
      "Appended tSNE projection for 50 PCs with perplexity 5.\n",
      "Appended tSNE projection for 50 PCs with perplexity 30.\n",
      "Appended tSNE projection for 50 PCs with perplexity 50.\n",
      "Appended tSNE projection for 50 PCs with perplexity 100.\n",
      "Appended tSNE projection for 60 PCs with perplexity 5.\n",
      "Appended tSNE projection for 60 PCs with perplexity 30.\n",
      "Appended tSNE projection for 60 PCs with perplexity 50.\n",
      "Appended tSNE projection for 60 PCs with perplexity 100.\n",
      "Appended tSNE projection for 70 PCs with perplexity 5.\n",
      "Appended tSNE projection for 70 PCs with perplexity 30.\n",
      "Appended tSNE projection for 70 PCs with perplexity 50.\n",
      "Appended tSNE projection for 70 PCs with perplexity 100.\n",
      "Appended tSNE projection for 80 PCs with perplexity 5.\n",
      "Appended tSNE projection for 80 PCs with perplexity 30.\n",
      "Appended tSNE projection for 80 PCs with perplexity 50.\n",
      "Appended tSNE projection for 80 PCs with perplexity 100.\n",
      "Appended tSNE projection for 90 PCs with perplexity 5.\n",
      "Appended tSNE projection for 90 PCs with perplexity 30.\n",
      "Appended tSNE projection for 90 PCs with perplexity 50.\n",
      "Appended tSNE projection for 90 PCs with perplexity 100.\n",
      "Appended tSNE projection for 100 PCs with perplexity 5.\n",
      "Appended tSNE projection for 100 PCs with perplexity 30.\n",
      "Appended tSNE projection for 100 PCs with perplexity 50.\n",
      "Appended tSNE projection for 100 PCs with perplexity 100.\n",
      "Appended tSNE projection for 110 PCs with perplexity 5.\n",
      "Appended tSNE projection for 110 PCs with perplexity 30.\n",
      "Appended tSNE projection for 110 PCs with perplexity 50.\n",
      "Appended tSNE projection for 110 PCs with perplexity 100.\n",
      "Appended tSNE projection for 120 PCs with perplexity 5.\n",
      "Appended tSNE projection for 120 PCs with perplexity 30.\n",
      "Appended tSNE projection for 120 PCs with perplexity 50.\n",
      "Appended tSNE projection for 120 PCs with perplexity 100.\n",
      "Appended tSNE projection for 130 PCs with perplexity 5.\n",
      "Appended tSNE projection for 130 PCs with perplexity 30.\n",
      "Appended tSNE projection for 130 PCs with perplexity 50.\n",
      "Appended tSNE projection for 130 PCs with perplexity 100.\n",
      "Appended tSNE projection for 140 PCs with perplexity 5.\n",
      "Appended tSNE projection for 140 PCs with perplexity 30.\n",
      "Appended tSNE projection for 140 PCs with perplexity 50.\n",
      "Appended tSNE projection for 140 PCs with perplexity 100.\n",
      "Appended tSNE projection for 150 PCs with perplexity 5.\n",
      "Appended tSNE projection for 150 PCs with perplexity 30.\n",
      "Appended tSNE projection for 150 PCs with perplexity 50.\n",
      "Appended tSNE projection for 150 PCs with perplexity 100.\n",
      "Appended tSNE projection for 160 PCs with perplexity 5.\n",
      "Appended tSNE projection for 160 PCs with perplexity 30.\n",
      "Appended tSNE projection for 160 PCs with perplexity 50.\n",
      "Appended tSNE projection for 160 PCs with perplexity 100.\n",
      "Appended tSNE projection for 170 PCs with perplexity 5.\n",
      "Appended tSNE projection for 170 PCs with perplexity 30.\n",
      "Appended tSNE projection for 170 PCs with perplexity 50.\n",
      "Appended tSNE projection for 170 PCs with perplexity 100.\n",
      "Appended tSNE projection for 180 PCs with perplexity 5.\n",
      "Appended tSNE projection for 180 PCs with perplexity 30.\n",
      "Appended tSNE projection for 180 PCs with perplexity 50.\n",
      "Appended tSNE projection for 180 PCs with perplexity 100.\n",
      "Appended tSNE projection for 190 PCs with perplexity 5.\n",
      "Appended tSNE projection for 190 PCs with perplexity 30.\n",
      "Appended tSNE projection for 190 PCs with perplexity 50.\n",
      "Appended tSNE projection for 190 PCs with perplexity 100.\n",
      "Appended tSNE projection for 200 PCs with perplexity 5.\n",
      "Appended tSNE projection for 200 PCs with perplexity 30.\n",
      "Appended tSNE projection for 200 PCs with perplexity 50.\n",
      "Appended tSNE projection for 200 PCs with perplexity 100.\n",
      "Appended tSNE projection for 210 PCs with perplexity 5.\n",
      "Appended tSNE projection for 210 PCs with perplexity 30.\n",
      "Appended tSNE projection for 210 PCs with perplexity 50.\n",
      "Appended tSNE projection for 210 PCs with perplexity 100.\n",
      "Appended tSNE projection for 220 PCs with perplexity 5.\n",
      "Appended tSNE projection for 220 PCs with perplexity 30.\n",
      "Appended tSNE projection for 220 PCs with perplexity 50.\n",
      "Appended tSNE projection for 220 PCs with perplexity 100.\n",
      "Appended tSNE projection for 230 PCs with perplexity 5.\n",
      "Appended tSNE projection for 230 PCs with perplexity 30.\n",
      "Appended tSNE projection for 230 PCs with perplexity 50.\n",
      "Appended tSNE projection for 230 PCs with perplexity 100.\n",
      "Appended tSNE projection for 240 PCs with perplexity 5.\n",
      "Appended tSNE projection for 240 PCs with perplexity 30.\n",
      "Appended tSNE projection for 240 PCs with perplexity 50.\n",
      "Appended tSNE projection for 240 PCs with perplexity 100.\n",
      "Appended tSNE projection for 250 PCs with perplexity 5.\n",
      "Appended tSNE projection for 250 PCs with perplexity 30.\n",
      "Appended tSNE projection for 250 PCs with perplexity 50.\n",
      "Appended tSNE projection for 250 PCs with perplexity 100.\n"
     ]
    }
   ],
   "source": [
    "#t-SNE projections with different perplexities\n",
    "perplexities = [5, 30, 50, 100]\n",
    "tsne_pcs_pp = []\n",
    "\n",
    "for p in pc_list_full:\n",
    "    temp_list = []\n",
    "    for plex in perplexities:\n",
    "        temp_list.append(TSNE(n_components=2, perplexity=plex).fit_transform(p))\n",
    "        print(\"Appended tSNE projection for \" + str(p.shape[1]) + \" PCs with perplexity \" + str(plex) + \".\")\n",
    "    \n",
    "    tsne_pcs_pp.append(temp_list)"
   ]
  },
  {
   "cell_type": "code",
   "execution_count": 132,
   "metadata": {
    "collapsed": true
   },
   "outputs": [
    {
     "name": "stdout",
     "output_type": "stream",
     "text": [
      "Created HTML for tSNE on {PC,PLEX}1,5\n",
      "Created HTML for tSNE on {PC,PLEX}1,30\n",
      "Created HTML for tSNE on {PC,PLEX}1,50\n",
      "Created HTML for tSNE on {PC,PLEX}1,100\n",
      "Created HTML for tSNE on {PC,PLEX}2,5\n",
      "Created HTML for tSNE on {PC,PLEX}2,30\n",
      "Created HTML for tSNE on {PC,PLEX}2,50\n",
      "Created HTML for tSNE on {PC,PLEX}2,100\n",
      "Created HTML for tSNE on {PC,PLEX}3,5\n",
      "Created HTML for tSNE on {PC,PLEX}3,30\n",
      "Created HTML for tSNE on {PC,PLEX}3,50\n",
      "Created HTML for tSNE on {PC,PLEX}3,100\n",
      "Created HTML for tSNE on {PC,PLEX}4,5\n",
      "Created HTML for tSNE on {PC,PLEX}4,30\n",
      "Created HTML for tSNE on {PC,PLEX}4,50\n",
      "Created HTML for tSNE on {PC,PLEX}4,100\n",
      "Created HTML for tSNE on {PC,PLEX}5,5\n",
      "Created HTML for tSNE on {PC,PLEX}5,30\n",
      "Created HTML for tSNE on {PC,PLEX}5,50\n",
      "Created HTML for tSNE on {PC,PLEX}5,100\n",
      "Created HTML for tSNE on {PC,PLEX}6,5\n",
      "Created HTML for tSNE on {PC,PLEX}6,30\n",
      "Created HTML for tSNE on {PC,PLEX}6,50\n",
      "Created HTML for tSNE on {PC,PLEX}6,100\n",
      "Created HTML for tSNE on {PC,PLEX}7,5\n",
      "Created HTML for tSNE on {PC,PLEX}7,30\n",
      "Created HTML for tSNE on {PC,PLEX}7,50\n",
      "Created HTML for tSNE on {PC,PLEX}7,100\n",
      "Created HTML for tSNE on {PC,PLEX}8,5\n",
      "Created HTML for tSNE on {PC,PLEX}8,30\n",
      "Created HTML for tSNE on {PC,PLEX}8,50\n",
      "Created HTML for tSNE on {PC,PLEX}8,100\n",
      "Created HTML for tSNE on {PC,PLEX}9,5\n",
      "Created HTML for tSNE on {PC,PLEX}9,30\n",
      "Created HTML for tSNE on {PC,PLEX}9,50\n",
      "Created HTML for tSNE on {PC,PLEX}9,100\n",
      "Created HTML for tSNE on {PC,PLEX}10,5\n",
      "Created HTML for tSNE on {PC,PLEX}10,30\n",
      "Created HTML for tSNE on {PC,PLEX}10,50\n",
      "Created HTML for tSNE on {PC,PLEX}10,100\n",
      "Created HTML for tSNE on {PC,PLEX}20,5\n",
      "Created HTML for tSNE on {PC,PLEX}20,30\n",
      "Created HTML for tSNE on {PC,PLEX}20,50\n",
      "Created HTML for tSNE on {PC,PLEX}20,100\n",
      "Created HTML for tSNE on {PC,PLEX}30,5\n",
      "Created HTML for tSNE on {PC,PLEX}30,30\n",
      "Created HTML for tSNE on {PC,PLEX}30,50\n",
      "Created HTML for tSNE on {PC,PLEX}30,100\n",
      "Created HTML for tSNE on {PC,PLEX}40,5\n",
      "Created HTML for tSNE on {PC,PLEX}40,30\n",
      "Created HTML for tSNE on {PC,PLEX}40,50\n",
      "Created HTML for tSNE on {PC,PLEX}40,100\n",
      "Created HTML for tSNE on {PC,PLEX}50,5\n",
      "Created HTML for tSNE on {PC,PLEX}50,30\n",
      "Created HTML for tSNE on {PC,PLEX}50,50\n",
      "Created HTML for tSNE on {PC,PLEX}50,100\n",
      "Created HTML for tSNE on {PC,PLEX}60,5\n",
      "Created HTML for tSNE on {PC,PLEX}60,30\n",
      "Created HTML for tSNE on {PC,PLEX}60,50\n",
      "Created HTML for tSNE on {PC,PLEX}60,100\n",
      "Created HTML for tSNE on {PC,PLEX}70,5\n",
      "Created HTML for tSNE on {PC,PLEX}70,30\n",
      "Created HTML for tSNE on {PC,PLEX}70,50\n",
      "Created HTML for tSNE on {PC,PLEX}70,100\n",
      "Created HTML for tSNE on {PC,PLEX}80,5\n",
      "Created HTML for tSNE on {PC,PLEX}80,30\n",
      "Created HTML for tSNE on {PC,PLEX}80,50\n",
      "Created HTML for tSNE on {PC,PLEX}80,100\n",
      "Created HTML for tSNE on {PC,PLEX}90,5\n",
      "Created HTML for tSNE on {PC,PLEX}90,30\n",
      "Created HTML for tSNE on {PC,PLEX}90,50\n",
      "Created HTML for tSNE on {PC,PLEX}90,100\n",
      "Created HTML for tSNE on {PC,PLEX}100,5\n",
      "Created HTML for tSNE on {PC,PLEX}100,30\n",
      "Created HTML for tSNE on {PC,PLEX}100,50\n",
      "Created HTML for tSNE on {PC,PLEX}100,100\n",
      "Created HTML for tSNE on {PC,PLEX}110,5\n",
      "Created HTML for tSNE on {PC,PLEX}110,30\n",
      "Created HTML for tSNE on {PC,PLEX}110,50\n",
      "Created HTML for tSNE on {PC,PLEX}110,100\n",
      "Created HTML for tSNE on {PC,PLEX}120,5\n",
      "Created HTML for tSNE on {PC,PLEX}120,30\n",
      "Created HTML for tSNE on {PC,PLEX}120,50\n",
      "Created HTML for tSNE on {PC,PLEX}120,100\n",
      "Created HTML for tSNE on {PC,PLEX}130,5\n",
      "Created HTML for tSNE on {PC,PLEX}130,30\n",
      "Created HTML for tSNE on {PC,PLEX}130,50\n",
      "Created HTML for tSNE on {PC,PLEX}130,100\n",
      "Created HTML for tSNE on {PC,PLEX}140,5\n",
      "Created HTML for tSNE on {PC,PLEX}140,30\n",
      "Created HTML for tSNE on {PC,PLEX}140,50\n",
      "Created HTML for tSNE on {PC,PLEX}140,100\n",
      "Created HTML for tSNE on {PC,PLEX}150,5\n",
      "Created HTML for tSNE on {PC,PLEX}150,30\n",
      "Created HTML for tSNE on {PC,PLEX}150,50\n",
      "Created HTML for tSNE on {PC,PLEX}150,100\n",
      "Created HTML for tSNE on {PC,PLEX}160,5\n",
      "Created HTML for tSNE on {PC,PLEX}160,30\n",
      "Created HTML for tSNE on {PC,PLEX}160,50\n",
      "Created HTML for tSNE on {PC,PLEX}160,100\n",
      "Created HTML for tSNE on {PC,PLEX}170,5\n",
      "Created HTML for tSNE on {PC,PLEX}170,30\n",
      "Created HTML for tSNE on {PC,PLEX}170,50\n",
      "Created HTML for tSNE on {PC,PLEX}170,100\n",
      "Created HTML for tSNE on {PC,PLEX}180,5\n",
      "Created HTML for tSNE on {PC,PLEX}180,30\n",
      "Created HTML for tSNE on {PC,PLEX}180,50\n",
      "Created HTML for tSNE on {PC,PLEX}180,100\n",
      "Created HTML for tSNE on {PC,PLEX}190,5\n",
      "Created HTML for tSNE on {PC,PLEX}190,30\n",
      "Created HTML for tSNE on {PC,PLEX}190,50\n",
      "Created HTML for tSNE on {PC,PLEX}190,100\n",
      "Created HTML for tSNE on {PC,PLEX}200,5\n",
      "Created HTML for tSNE on {PC,PLEX}200,30\n",
      "Created HTML for tSNE on {PC,PLEX}200,50\n",
      "Created HTML for tSNE on {PC,PLEX}200,100\n",
      "Created HTML for tSNE on {PC,PLEX}210,5\n",
      "Created HTML for tSNE on {PC,PLEX}210,30\n",
      "Created HTML for tSNE on {PC,PLEX}210,50\n",
      "Created HTML for tSNE on {PC,PLEX}210,100\n",
      "Created HTML for tSNE on {PC,PLEX}220,5\n",
      "Created HTML for tSNE on {PC,PLEX}220,30\n",
      "Created HTML for tSNE on {PC,PLEX}220,50\n",
      "Created HTML for tSNE on {PC,PLEX}220,100\n",
      "Created HTML for tSNE on {PC,PLEX}230,5\n",
      "Created HTML for tSNE on {PC,PLEX}230,30\n",
      "Created HTML for tSNE on {PC,PLEX}230,50\n",
      "Created HTML for tSNE on {PC,PLEX}230,100\n",
      "Created HTML for tSNE on {PC,PLEX}240,5\n",
      "Created HTML for tSNE on {PC,PLEX}240,30\n",
      "Created HTML for tSNE on {PC,PLEX}240,50\n",
      "Created HTML for tSNE on {PC,PLEX}240,100\n",
      "Created HTML for tSNE on {PC,PLEX}250,5\n",
      "Created HTML for tSNE on {PC,PLEX}250,30\n",
      "Created HTML for tSNE on {PC,PLEX}250,50\n",
      "Created HTML for tSNE on {PC,PLEX}250,100\n"
     ]
    }
   ],
   "source": [
    "for p in range(0, len(pc_list_full)):\n",
    "    temp_num_pcs = pc_list_full[p].shape[1]\n",
    "    for pl in range(0, len(perplexities)):\n",
    "        perplex = perplexities[pl]\n",
    "        plot_bokeh(tsne_pcs_pp[p][pl],\n",
    "                   'TSNE on ' + str(temp_num_pcs) + ' PCs with perplexity ' + str(perplex),\n",
    "                   'TSNE_' + str(temp_num_pcs) + 'PC_PLEX' + str(perplex),\n",
    "                   'TSNE with PC' + str(temp_num_pcs) + ' PLEX' + str(perplex))\n",
    "        print('Created HTML for tSNE on {PC,PLEX}' + str(temp_num_pcs) + ',' + str(perplex))\n",
    "\n",
    "# plot_bokeh(Y_cmds_pcs, 'PHATE on 30 PCs (10 skip) classic MDS', 'PHATE_30PC_CMDS', 'PHATE with 30PCs CMDS')"
   ]
  },
  {
   "cell_type": "code",
   "execution_count": 194,
   "metadata": {
    "collapsed": true
   },
   "outputs": [],
   "source": [
    "mds_pc_to_3D=[]"
   ]
  },
  {
   "cell_type": "code",
   "execution_count": 196,
   "metadata": {
    "collapsed": true
   },
   "outputs": [
    {
     "name": "stdout",
     "output_type": "stream",
     "text": [
      "Finished projecting PCs to MDS, dimensions: {3,3}\n",
      "Time to execute: 140.24294233322144\n",
      "Finished projecting PCs to MDS, dimensions: {4,3}\n",
      "Time to execute: 379.97635293006897\n",
      "Finished projecting PCs to MDS, dimensions: {5,3}\n",
      "Time to execute: 287.2018690109253\n",
      "Finished projecting PCs to MDS, dimensions: {6,3}\n",
      "Time to execute: 377.0853691101074\n",
      "Finished projecting PCs to MDS, dimensions: {7,3}\n",
      "Time to execute: 273.4500548839569\n",
      "Finished projecting PCs to MDS, dimensions: {8,3}\n",
      "Time to execute: 378.25805592536926\n",
      "Finished projecting PCs to MDS, dimensions: {9,3}\n",
      "Time to execute: 378.642459154129\n",
      "Finished projecting PCs to MDS, dimensions: {10,3}\n",
      "Time to execute: 378.22457814216614\n",
      "Finished projecting PCs to MDS, dimensions: {20,3}\n",
      "Time to execute: 377.415803194046\n",
      "Finished projecting PCs to MDS, dimensions: {30,3}\n",
      "Time to execute: 378.3750820159912\n",
      "Finished projecting PCs to MDS, dimensions: {40,3}\n",
      "Time to execute: 378.5118577480316\n",
      "Finished projecting PCs to MDS, dimensions: {50,3}\n",
      "Time to execute: 378.1436071395874\n",
      "Finished projecting PCs to MDS, dimensions: {60,3}\n",
      "Time to execute: 378.34148716926575\n",
      "Finished projecting PCs to MDS, dimensions: {70,3}\n",
      "Time to execute: 378.9649188518524\n",
      "Finished projecting PCs to MDS, dimensions: {80,3}\n",
      "Time to execute: 378.1155059337616\n",
      "Finished projecting PCs to MDS, dimensions: {90,3}\n",
      "Time to execute: 378.4877541065216\n",
      "Finished projecting PCs to MDS, dimensions: {100,3}\n",
      "Time to execute: 382.4460120201111\n",
      "Finished projecting PCs to MDS, dimensions: {110,3}\n",
      "Time to execute: 378.7521607875824\n",
      "Finished projecting PCs to MDS, dimensions: {120,3}\n",
      "Time to execute: 379.44758200645447\n",
      "Finished projecting PCs to MDS, dimensions: {130,3}\n",
      "Time to execute: 378.48938512802124\n",
      "Finished projecting PCs to MDS, dimensions: {140,3}\n",
      "Time to execute: 378.2891399860382\n",
      "Finished projecting PCs to MDS, dimensions: {150,3}\n",
      "Time to execute: 377.8898890018463\n",
      "Finished projecting PCs to MDS, dimensions: {160,3}\n",
      "Time to execute: 378.22310400009155\n",
      "Finished projecting PCs to MDS, dimensions: {170,3}\n",
      "Time to execute: 380.188481092453\n",
      "Finished projecting PCs to MDS, dimensions: {180,3}\n",
      "Time to execute: 381.00935316085815\n",
      "Finished projecting PCs to MDS, dimensions: {190,3}\n",
      "Time to execute: 381.0398452281952\n",
      "Finished projecting PCs to MDS, dimensions: {200,3}\n",
      "Time to execute: 384.8016917705536\n",
      "Finished projecting PCs to MDS, dimensions: {210,3}\n",
      "Time to execute: 381.13986992836\n",
      "Finished projecting PCs to MDS, dimensions: {220,3}\n",
      "Time to execute: 381.00007009506226\n",
      "Finished projecting PCs to MDS, dimensions: {230,3}\n",
      "Time to execute: 381.6928298473358\n",
      "Finished projecting PCs to MDS, dimensions: {240,3}\n",
      "Time to execute: 382.06392216682434\n",
      "Finished projecting PCs to MDS, dimensions: {250,3}\n",
      "Time to execute: 382.39731907844543\n"
     ]
    }
   ],
   "source": [
    "# Generate 3D MDS projections\n",
    "n_c = 3\n",
    "\n",
    "for p in range(0, len(pc_list_full)):\n",
    "    if pc_list_full[p].shape[1] > 2:\n",
    "        start_time = time.time()\n",
    "        temp_projection = MDS(n_components=n_c).fit_transform(pc_list_full[p])\n",
    "        mds_pc_to_3D.append(temp_projection)\n",
    "        end_time = time.time()\n",
    "        print(\"Finished projecting PCs to MDS, dimensions: {\" + str(pc_list_full[p].shape[1])+ \",\" + str(n_c) + \"}\")\n",
    "        print(\"Time to execute: \" + str(end_time - start_time))"
   ]
  },
  {
   "cell_type": "markdown",
   "metadata": {},
   "source": [
    "# Generate interactive HTML files"
   ]
  },
  {
   "cell_type": "code",
   "execution_count": 21,
   "metadata": {
    "collapsed": true
   },
   "outputs": [],
   "source": [
    "# Write a plotting function\n",
    "def plot_bokeh(dset, ptitle, outf, legtitle):\n",
    "    # Plot the embeddings and see what happens.\n",
    "    component_1_id = 0\n",
    "    component_2_id = 1\n",
    "\n",
    "    p = figure(plot_width=1500, plot_height=800)\n",
    "    p.title.text = legtitle\n",
    "\n",
    "    for cont in continents: \n",
    "        for pop in pop_by_continent[cont]:\n",
    "            projections_within_population = dset[indices_of_population_members[pop]]\n",
    "            p.circle(projections_within_population[:,component_1_id], projections_within_population[:,component_2_id], \n",
    "                     legend=name_by_code[pop], color = color_dict[pop])\n",
    "\n",
    "    p.legend.location = \"top_left\"\n",
    "\n",
    "    p.legend.click_policy=\"hide\"\n",
    "\n",
    "    output_file(outf+\".html\", title=ptitle)\n",
    "\n",
    "    save(p)\n",
    "    #show(p)"
   ]
  },
  {
   "cell_type": "code",
   "execution_count": null,
   "metadata": {
    "collapsed": true
   },
   "outputs": [],
   "source": [
    "plot_bokeh(projections_to_PCs[:,0:1], 'PC1', outf, legtitle):"
   ]
  },
  {
   "cell_type": "code",
   "execution_count": 21,
   "metadata": {
    "collapsed": true
   },
   "outputs": [],
   "source": [
    "plot_bokeh(projections_to_PCs, 'PC1 vs PC2', 'PCA_GT', 'PCA on GT data')"
   ]
  },
  {
   "cell_type": "code",
   "execution_count": 38,
   "metadata": {
    "collapsed": true
   },
   "outputs": [],
   "source": [
    "plot_bokeh(Y_nmmds_raw, 'PHATE on genotype data (10 skip) non-metric MDS', 'PHATE_GT_NMMDS', 'PHATE with GT data NMMDS')"
   ]
  },
  {
   "cell_type": "code",
   "execution_count": 52,
   "metadata": {
    "collapsed": true
   },
   "outputs": [],
   "source": [
    "plot_bokeh(mds_pc30, 'MDS on 30 PCs (10 skip)', 'MDS_30PC', 'MDS with 30PCs')"
   ]
  },
  {
   "cell_type": "code",
   "execution_count": 54,
   "metadata": {
    "collapsed": true
   },
   "outputs": [],
   "source": [
    "plot_bokeh(mds_raw, 'MDS on genotype data (10 skip)', 'MDS_GT', 'MDS with GT data')"
   ]
  },
  {
   "cell_type": "code",
   "execution_count": 56,
   "metadata": {
    "collapsed": true
   },
   "outputs": [],
   "source": [
    "plot_bokeh(nmmds_pcs[0], 'PHATE on 10PCs (10 skip) non-metric MDS', 'PHATE_10PC_NMMDS', 'PHATE with PC10 data NMMDs')"
   ]
  },
  {
   "cell_type": "code",
   "execution_count": 57,
   "metadata": {
    "collapsed": true
   },
   "outputs": [],
   "source": [
    "plot_bokeh(nmmds_pcs[1], 'PHATE on 20PCs (10 skip) non-metric MDS', 'PHATE_20PC_NNMDS', 'PHATE with PC20 data NMMDS')"
   ]
  },
  {
   "cell_type": "code",
   "execution_count": 45,
   "metadata": {},
   "outputs": [],
   "source": [
    "from bokeh.palettes import Category20b\n",
    "from bokeh.palettes import Purples\n",
    "from bokeh.palettes import Greens\n",
    "from bokeh.palettes import YlOrBr\n",
    "from bokeh.palettes import YlOrRd\n",
    "from bokeh.palettes import PuOr\n",
    "from bokeh.palettes import RdGy\n",
    "from bokeh.palettes import PiYG\n",
    "\n",
    "color_dict = {}\n",
    "for i, cont in enumerate(continents): \n",
    "    for j, pop in enumerate(pop_by_continent[cont]):\n",
    "        color_dict[pop] = Category20b[20][4*i+j%4]\n",
    "\n",
    "# Issue: shared colours between:\n",
    "# CDX and CHS (purple)\n",
    "# GIH and STU (green)\n",
    "# ASW and LWK (brown/yellow)\n",
    "# ACB and MSL (brown/yellow)\n",
    "# ESN and YRI (goldenrod/canary/saffron/paella)\n",
    "# GBR and CEU (dark red)\n",
    "\n",
    "# Manually assign colours to CHS, STU, LWK, MSL, CEU\n",
    "color_dict['CHS'] = Purples[9][4]# purple\n",
    "color_dict['STU'] = Greens[9][6] # green\n",
    "color_dict['LWK'] = PuOr[11][-1] # brown\n",
    "color_dict['MSL'] = PuOr[11][-2] # rusty brown\n",
    "color_dict['YRI'] = PuOr[11][-3] # cappucino w/ extra milk (stirred)\n",
    "color_dict['CEU'] = RdGy[11][-3]\n",
    "\n",
    "dset = np.loadtxt('/Volumes/Stockage/alex/1000G/projections/1000G_UMAP_PC15_NC2_NN15_MD0.5_2018629161925')\n",
    "\n",
    "component_1_id = 0\n",
    "component_2_id = 1\n",
    "\n",
    "p = figure(plot_width=1500, plot_height=800)\n",
    "p.title.text = 'test'\n",
    "\n",
    "for cont in continents: \n",
    "    for pop in pop_by_continent[cont]:\n",
    "        projections_within_population = dset[indices_of_population_members[pop]]\n",
    "        p.circle(projections_within_population[:,component_1_id], projections_within_population[:,component_2_id], \n",
    "                 legend=name_by_code[pop], color = color_dict[pop], alpha=.7)\n",
    "\n",
    "p.legend.location = \"top_left\"\n",
    "\n",
    "p.legend.click_policy=\"hide\"\n",
    "\n",
    "output_file(\"test_colour_palette.html\", title='test')\n",
    "\n",
    "show(p)"
   ]
  },
  {
   "cell_type": "markdown",
   "metadata": {},
   "source": [
    "# Plotting UMAP results"
   ]
  },
  {
   "cell_type": "code",
   "execution_count": 49,
   "metadata": {
    "collapsed": true,
    "scrolled": true
   },
   "outputs": [],
   "source": [
    "proj_dir = '/Volumes/Stockage/alex/1000G/projections'\n",
    "html_dir = '/Volumes/Stockage/alex/1000G/html'\n",
    "\n",
    "for fname in os.listdir(proj_dir):\n",
    "    if os.path.isdir(os.path.join(proj_dir, fname)) or fname=='pca_1000g_100' or \\\n",
    "    os.path.exists(os.path.join(html_dir, fname+\".html\")):\n",
    "        continue\n",
    "    else:\n",
    "        dset = np.loadtxt(os.path.join(proj_dir, fname))\n",
    "\n",
    "        p = figure(plot_width=1500, plot_height=800)\n",
    "        p.title.text = fname\n",
    "\n",
    "        for cont in continents: \n",
    "            for pop in pop_by_continent[cont]:\n",
    "                projections_within_population = dset[indices_of_population_members[pop]]\n",
    "                p.circle(projections_within_population[:,0], projections_within_population[:,1], \n",
    "                         legend=name_by_code[pop], color = color_dict[pop])\n",
    "\n",
    "        p.legend.location = \"top_left\"\n",
    "\n",
    "        p.legend.click_policy=\"hide\"\n",
    "\n",
    "        output_file(os.path.join(html_dir, fname+\".html\"), title=fname)\n",
    "\n",
    "        save(p)"
   ]
  },
  {
   "cell_type": "markdown",
   "metadata": {},
   "source": [
    "# Generate images (not interactive HTML)"
   ]
  },
  {
   "cell_type": "code",
   "execution_count": 50,
   "metadata": {
    "collapsed": true
   },
   "outputs": [],
   "source": [
    "proj_dir = '/Volumes/Stockage/alex/1000G/projections'\n",
    "out_dir = '/Volumes/Stockage/alex/1000G/images'\n",
    "\n",
    "x=0\n",
    "\n",
    "for fname in os.listdir(proj_dir):\n",
    "    if x > 1:\n",
    "        continue\n",
    "        \n",
    "    proj = np.loadtxt(os.path.join(proj_dir, fname))\n",
    "    \n",
    "    fig = plt.figure(figsize=(20,20))\n",
    "    ax = fig.add_subplot(111, aspect=1)\n",
    "    \n",
    "    for cont in continents: \n",
    "        for pop in pop_by_continent[cont]:\n",
    "            temp_proj = proj[indices_of_population_members[pop]]\n",
    "            ax.scatter(temp_proj[:,0], temp_proj[:,1], label=name_by_code[pop], alpha=0.6, color=color_dict[pop])\n",
    "    \n",
    "    ax.legend(ncol=5,loc='lower center', bbox_to_anchor=(0.5,-0.15), fontsize=12,markerscale=3)\n",
    "    fig.savefig(os.path.join(out_dir, fname + '.jpeg'),format='jpeg')\n",
    "    plt.close()\n",
    "    \n",
    "    #x+=1"
   ]
  },
  {
   "cell_type": "markdown",
   "metadata": {
    "collapsed": true
   },
   "source": [
    "# Generate images without legends"
   ]
  },
  {
   "cell_type": "code",
   "execution_count": 26,
   "metadata": {
    "collapsed": true
   },
   "outputs": [],
   "source": [
    "proj_dir = '/Volumes/Stockage/alex/1000G/projections'\n",
    "out_dir = '/Volumes/Stockage/alex/1000G/images/no_legend'\n",
    "\n",
    "x=0\n",
    "\n",
    "for fname in os.listdir(proj_dir):\n",
    "    if x > 1:\n",
    "        continue\n",
    "        \n",
    "    proj = np.loadtxt(os.path.join(proj_dir, fname))\n",
    "    \n",
    "    fig = plt.figure(figsize=(20,20))\n",
    "    ax = fig.add_subplot(111, aspect=1)\n",
    "    \n",
    "    for cont in continents: \n",
    "        for pop in pop_by_continent[cont]:\n",
    "            temp_proj = proj[indices_of_population_members[pop]]\n",
    "            ax.scatter(temp_proj[:,0], temp_proj[:,1], label=name_by_code[pop], alpha=0.6, color=color_dict[pop])\n",
    "    \n",
    "    fig.savefig(os.path.join(out_dir, fname + '.jpeg'),format='jpeg')\n",
    "    plt.close()\n",
    "    \n",
    "    #x+=1"
   ]
  },
  {
   "cell_type": "code",
   "execution_count": 41,
   "metadata": {
    "collapsed": true
   },
   "outputs": [],
   "source": [
    "# One-off to print labels instead of points\n",
    "out_dir = '/Volumes/Stockage/alex/1000G/images/labels'\n",
    "fnames = ['1000G_UMAP_PC15_NC2_NN15_MD0.5_20184421291','1000G_TSNE_PLEX30_GT','1000G_UMAP_NN15_MD0.5_GT','pca_1000g_100']\n",
    "\n",
    "for fname in fnames:\n",
    "    proj = np.loadtxt(os.path.join(proj_dir, fname))\n",
    "\n",
    "    fig = plt.figure(figsize=(20,20))\n",
    "    ax = fig.add_subplot(111, aspect=1)\n",
    "\n",
    "    for cont in continents: \n",
    "        for pop in pop_by_continent[cont]:\n",
    "            temp_proj = proj[indices_of_population_members[pop]]\n",
    "            ax.scatter(temp_proj[:,0], temp_proj[:,1], label=name_by_code[pop], alpha=0, color=color_dict[pop])\n",
    "\n",
    "            for i,j in zip(temp_proj[:,0], temp_proj[:,1]):\n",
    "                ax.annotate(pop,xy=(i,j),color=color_dict[pop],size=7)\n",
    "\n",
    "    fig.savefig(os.path.join(out_dir, fname + '_labels.jpeg'),format='jpeg')\n",
    "    plt.close()"
   ]
  },
  {
   "cell_type": "markdown",
   "metadata": {},
   "source": [
    "# Manuscript additions\n",
    "Do some statistical testing of other phenotypes. Specifically:\n",
    "* Eosinophill count (South Asians are higher than average)\n",
    "* Basophill count (Black African/Black Caribbean much lower than average, Chinese/East Asian lower than average)\n",
    "* FEV (Black African, Black Caribbean, South Asian much lower than average. Chinese slightly lower. Some \"other\" (East Asian??) ethnicity also noticably lower)\n",
    "* Neutrophill count (South Asian, East Asian somewhat lower). Admixed-African appears lower with less signal from Black African/Caribbean)\n",
    "* Leukocyte count (Black African/Caribbean, Chinese/East Asian lower than average, South Asian higher than average)"
   ]
  },
  {
   "cell_type": "markdown",
   "metadata": {},
   "source": [
    "# Sandbox"
   ]
  },
  {
   "cell_type": "code",
   "execution_count": 75,
   "metadata": {
    "collapsed": true
   },
   "outputs": [],
   "source": [
    "proj = projections_to_PCs\n",
    "out_dir = '/Volumes/Stockage/alex/1000G/images/pc_grid'\n",
    "\n",
    "gridsize = 20\n",
    "f, axarr = plt.subplots(gridsize,gridsize,figsize=(60,60))\n",
    "\n",
    "fname = '1000G_PC_grid_' + str(gridsize)\n",
    "\n",
    "for i in range(0,gridsize):\n",
    "    for j in range(0,gridsize):\n",
    "        if i<=j:\n",
    "            for cont in continents: \n",
    "                for pop in pop_by_continent[cont]:\n",
    "                    temp_proj = proj[indices_of_population_members[pop]]\n",
    "                    axarr[i,j].scatter(temp_proj[:,i], temp_proj[:,j+1], label=name_by_code[pop], \n",
    "                                       alpha=0.6, color=color_dict[pop], s=6)\n",
    "                    axarr[i,j].set_title('PC' + str(j+2) + ' vs PC' + str(i+1))\n",
    "\n",
    "plt.legend(ncol=5,loc='lower center', bbox_to_anchor=(-3,-1), fontsize=12,markerscale=3)\n",
    "#plt.show()\n",
    "f.savefig(os.path.join(out_dir, fname + '.jpeg'),format='jpeg')\n",
    "plt.close()"
   ]
  }
 ],
 "metadata": {
  "kernelspec": {
   "display_name": "Python 3",
   "language": "python",
   "name": "python3"
  },
  "language_info": {
   "codemirror_mode": {
    "name": "ipython",
    "version": 3
   },
   "file_extension": ".py",
   "mimetype": "text/x-python",
   "name": "python",
   "nbconvert_exporter": "python",
   "pygments_lexer": "ipython3",
   "version": "3.6.3"
  }
 },
 "nbformat": 4,
 "nbformat_minor": 2
}
