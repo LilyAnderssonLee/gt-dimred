{
 "cells": [
  {
   "cell_type": "code",
   "execution_count": 1,
   "metadata": {
    "collapsed": true
   },
   "outputs": [],
   "source": [
    "%matplotlib inline\n",
    "import matplotlib.pyplot as plt\n",
    "import collections\n",
    "import gzip\n",
    "import numpy as np\n",
    "import os\n",
    "import phate\n",
    "import time\n",
    "\n",
    "import pandas as pd\n",
    "import pickle as pk\n",
    "\n",
    "from collections import defaultdict\n",
    "import itertools\n",
    "\n",
    "# Interactive HTML tools\n",
    "from ipywidgets import interact\n",
    "import bokeh\n",
    "import bokeh.io\n",
    "from bokeh.io import push_notebook\n",
    "from bokeh.plotting import figure, show, save, output_notebook, output_file\n",
    "from bokeh.palettes import Category20b\n",
    "from bokeh.palettes import Category20\n",
    "from bokeh.palettes import Category10\n",
    "from bokeh.palettes import PRGn\n",
    "from bokeh.palettes import Set1\n",
    "\n",
    "# Machine-learning and dimensionality reduction tools\n",
    "import sklearn\n",
    "from sklearn import decomposition\n",
    "from sklearn.decomposition import PCA as PCA # We'll use this to check our implementation\n",
    "from sklearn.manifold import TSNE\n",
    "from sklearn.decomposition import TruncatedSVD\n",
    "from sklearn.manifold import MDS"
   ]
  },
  {
   "cell_type": "code",
   "execution_count": 118,
   "metadata": {},
   "outputs": [],
   "source": [
    "# Import PCA data\n",
    "data_dir = '/Users/alex/Documents/Ethnicity/HRS_1000G_AJ'\n",
    "pc_file = 'merged_1000G_HRS_khazar_pca.eigenvec'\n",
    "\n",
    "pc_path = os.path.join(data_dir, pc_file)\n",
    "\n",
    "with open(pc_path) as pc:\n",
    "    pca_contents = pc.readlines()\n",
    "\n",
    "pca_data = []\n",
    "\n",
    "for pc in pca_contents:\n",
    "    pca_data.append(pc.split()[2:len(pc)])\n",
    "\n",
    "pca_data_array = np.array(pca_data).astype(np.float)"
   ]
  },
  {
   "cell_type": "markdown",
   "metadata": {},
   "source": [
    "# Import auxiliary data"
   ]
  },
  {
   "cell_type": "code",
   "execution_count": 6,
   "metadata": {
    "collapsed": true
   },
   "outputs": [],
   "source": [
    "# Import 1000G auxiliary data\n",
    "%store -r continents\n",
    "%store -r pop_by_continent\n",
    "%store -r pop\n",
    "%store -r indices_of_population_members\n",
    "%store -r name_by_code\n",
    "%store -r continent_by_population\n",
    "%store -r individuals\n",
    "%store -r population_by_individual\n",
    "%store -r individuals_by_population\n",
    "%store -r populations\n",
    "\n",
    "# Import HRS auxiliary data\n",
    "%store -r aux_data_hrs\n",
    "%store -r hisp_dict\n",
    "%store -r hisp_dict_rev\n",
    "%store -r mex_dict\n",
    "%store -r mex_dict_rev\n",
    "%store -r race_dict\n",
    "%store -r race_dict_rev\n",
    "%store -r brn_dict\n",
    "%store -r brn_dict_rev\n",
    "%store -r racedb_dict\n",
    "%store -r racedb_dict_rev"
   ]
  },
  {
   "cell_type": "code",
   "execution_count": 7,
   "metadata": {
    "collapsed": true
   },
   "outputs": [],
   "source": [
    "# Labels for the HRS data aren't as clear - import the code to define those as well.\n",
    "# These auxiliary data sets will define how we label the observations\n",
    "\n",
    "# Columns are:\n",
    "# 0 = ID, 1 = Family ID, 2 = Birth Year\n",
    "# 3 = Hispanic, 4 = Detailed Hispanic, 5 = Race, 6 = Birth Region, 7 = Birth region name\n",
    "# 10= dbGaP race (Note: Black != AfrAm and White != Not_AfrAm)\n",
    "\n",
    "# Create multiple types of categorization based on variables to include\n",
    "aux_data_1 = [] # 1 - Birth region, race, Hispanic status, Mexican status\n",
    "aux_data_2 = [] # 2 - Race, Hispanic status, Mexican status\n",
    "aux_data_3 = [] # 3 - Birth region, race\n",
    "aux_data_4 = [] # 4 - Race, Hispanic status\n",
    "aux_data_5 = [] # 5 - Birth region\n",
    "aux_data_6 = [] # 6 - Birth region, Hispanic status, Mexican status\n",
    "aux_data_7 = [] # 7 - Birth region, Hispanic status\n",
    "\n",
    "individuals_hrs = []\n",
    "\n",
    "aux_data_dict_1 = defaultdict(list)\n",
    "aux_data_dict_2 = defaultdict(list)\n",
    "aux_data_dict_3 = defaultdict(list)\n",
    "aux_data_dict_4 = defaultdict(list)\n",
    "aux_data_dict_5 = defaultdict(list)\n",
    "aux_data_dict_6 = defaultdict(list)\n",
    "aux_data_dict_7 = defaultdict(list)\n",
    "\n",
    "# Get the lists (skip the first row as it's a header)\n",
    "for a in aux_data_hrs[1:]:\n",
    "#for a in aux_data_dict[subset][0:]:\n",
    "    individuals_hrs.append(a[0])\n",
    "    \n",
    "    temp_element = [a[0], '_'.join([brn_dict[a[7]], race_dict[a[5]], hisp_dict[a[3]], mex_dict[a[4]]])]    \n",
    "    aux_data_1.append(temp_element)\n",
    "    \n",
    "    temp_element = [a[0], '_'.join([race_dict[a[5]], hisp_dict[a[3]], mex_dict[a[4]]])]\n",
    "    aux_data_2.append(temp_element)\n",
    "    \n",
    "    temp_element = [a[0], '_'.join([brn_dict[a[7]], race_dict[a[5]]])]\n",
    "    aux_data_3.append(temp_element)\n",
    "    \n",
    "    temp_element = [a[0], '_'.join([race_dict[a[5]], hisp_dict[a[3]]])]\n",
    "    aux_data_4.append(temp_element)\n",
    "    \n",
    "    temp_element = [a[0], '_'.join([brn_dict[a[7]]])]\n",
    "    aux_data_5.append(temp_element)\n",
    "    \n",
    "    temp_element = [a[0], '_'.join([brn_dict[a[7]], hisp_dict[a[3]], mex_dict[a[4]]])]\n",
    "    aux_data_6.append(temp_element)\n",
    "    \n",
    "    temp_element = [a[0], '_'.join([brn_dict[a[7]], hisp_dict[a[3]]])]\n",
    "    aux_data_7.append(temp_element)"
   ]
  },
  {
   "cell_type": "code",
   "execution_count": 23,
   "metadata": {
    "collapsed": true
   },
   "outputs": [],
   "source": [
    "aux_to_use = aux_data_4"
   ]
  },
  {
   "cell_type": "code",
   "execution_count": 24,
   "metadata": {},
   "outputs": [],
   "source": [
    "# We must define the population dictionary we wish to use\n",
    "# The following gives us a collection of all categories of some population and/or proxy for ethnicity:\n",
    "eth_proxy_set = set([a[1] for a in aux_to_use])\n",
    "pop_dict = dict()\n",
    "\n",
    "for e in eth_proxy_set:\n",
    "    el = e.split('_')\n",
    "    \n",
    "    if aux_to_use == aux_data_1:    \n",
    "        temp_brn = brn_dict_rev[el[0]]\n",
    "        temp_race = race_dict_rev[el[1]]\n",
    "        temp_hisp = hisp_dict_rev[el[2]]\n",
    "        temp_mex = mex_dict_rev[el[3]]\n",
    "        \n",
    "        pop_dict.update({e:temp_brn + ' ' + temp_race + ' ' + temp_hisp + ' ' + temp_mex})\n",
    "    elif aux_to_use == aux_data_2:\n",
    "        temp_race = race_dict_rev[el[0]]\n",
    "        temp_hisp = hisp_dict_rev[el[1]]\n",
    "        temp_mex = mex_dict_rev[el[2]]\n",
    "        temp_list = [temp_race, temp_hisp, temp_mex]\n",
    "        \n",
    "        pop_dict.update({e:temp_race + ' ' + temp_hisp + ' ' + temp_mex})\n",
    "    elif aux_to_use == aux_data_3:\n",
    "        temp_brn = brn_dict_rev[el[0]]\n",
    "        temp_race = race_dict_rev[el[1]]\n",
    "        \n",
    "        pop_dict.update({e: temp_brn + ' ' + temp_race})\n",
    "    elif aux_to_use == aux_data_4:\n",
    "        temp_race = race_dict_rev[el[0]]\n",
    "        temp_hisp = hisp_dict_rev[el[1]]\n",
    "        \n",
    "        pop_dict.update({e: temp_race + ' ' + temp_hisp})\n",
    "    elif aux_to_use == aux_data_5:\n",
    "        temp_brn = brn_dict_rev[el[0]]\n",
    "        \n",
    "        pop_dict.update({e: temp_brn})\n",
    "    elif aux_to_use == aux_data_6:\n",
    "        temp_brn = brn_dict_rev[el[0]]\n",
    "        temp_hisp = hisp_dict_rev[el[1]]\n",
    "        temp_mex = mex_dict_rev[el[2]]\n",
    "        \n",
    "        pop_dict.update({e: temp_brn + ' ' + temp_hisp + ' ' + temp_mex})\n",
    "    elif aux_to_use == aux_data_7:\n",
    "        temp_brn = brn_dict_rev[el[0]]\n",
    "        temp_hisp = hisp_dict_rev[el[1]]\n",
    "        \n",
    "        pop_dict.update({e: temp_brn + ' ' + temp_hisp})"
   ]
  },
  {
   "cell_type": "code",
   "execution_count": 25,
   "metadata": {
    "collapsed": true
   },
   "outputs": [],
   "source": [
    "# Set up an index of each population member and vice versa\n",
    "# We want to quickly access a given individual's population and a given population's individuals\n",
    "population_by_individual_hrs = defaultdict(int)\n",
    "individuals_by_population_hrs = defaultdict(list)\n",
    "\n",
    "for a in aux_to_use:\n",
    "    population_by_individual_hrs[a[0]] = a[1]\n",
    "    individuals_by_population_hrs[a[1]].append(a[0])\n",
    "    \n",
    "indices_of_population_members_hrs = defaultdict(list)\n",
    "\n",
    "for index, indiv in enumerate(individuals_hrs):\n",
    "    try:\n",
    "        indices_of_population_members_hrs[population_by_individual_hrs[indiv]].append(index)\n",
    "    except KeyError:\n",
    "        continue"
   ]
  },
  {
   "cell_type": "code",
   "execution_count": 66,
   "metadata": {
    "collapsed": true
   },
   "outputs": [],
   "source": [
    "# Colour dictionaries\n",
    "# Need to define colour dictionaries - just go with what was previously set up\n",
    "color_dict_1000g = {}\n",
    "for i, cont in enumerate(continents): \n",
    "    for j, pop in enumerate(pop_by_continent[cont]):\n",
    "        color_dict_1000g[pop] = Category20b[20][4*i+j%4]\n",
    "        \n",
    "color_dict_hrs = {}\n",
    "\n",
    "for j, pop in enumerate(eth_proxy_set):\n",
    "    if j < 20:\n",
    "        color_dict_hrs[pop] = Category20[20][j]\n",
    "    elif j < 30:\n",
    "        color_dict_hrs[pop] = PRGn[10][j%20]\n",
    "    else:\n",
    "        color_dict_hrs[pop] = Set1[9][j%30]"
   ]
  },
  {
   "cell_type": "code",
   "execution_count": 90,
   "metadata": {},
   "outputs": [],
   "source": [
    "# Get some Jewish auxiliary data (quick 'n dirty for now)\n",
    "# Note that for this dataset we only merged the \"new data\" for hte Khazar paper (minor oversight but still works)\n",
    "data_dir_jewish = '/Users/alex/Documents/Ethnicity/jewish_genotype/full_data_panel_for_khazar_paper'\n",
    "\n",
    "with open(os.path.join(data_dir_jewish,'khazar3_1-22_maf0.01mind0.035geno0.005.fam')) as line:\n",
    "    aux_data_jewish_new = line.readlines()\n",
    "\n",
    "for j in range(0,len(aux_data_jewish_new)):\n",
    "    aux_data_jewish_new[j] = aux_data_jewish_new[j].strip().split()[0:2]\n",
    "    \n",
    "#aux_data_jewish_new = "
   ]
  },
  {
   "cell_type": "code",
   "execution_count": 92,
   "metadata": {},
   "outputs": [
    {
     "data": {
      "text/plain": [
       "1774"
      ]
     },
     "execution_count": 92,
     "metadata": {},
     "output_type": "execute_result"
    }
   ],
   "source": [
    "len(aux_data_jewish_new)"
   ]
  },
  {
   "cell_type": "code",
   "execution_count": 121,
   "metadata": {},
   "outputs": [],
   "source": [
    "# Get the number of people in each group - the dataset is stacked such that we have HRS, 1000G, and the Jewish set\n",
    "# Note: PLINK removed 23 individuals as duplicates\n",
    "n_hrs = len(aux_data_hrs)-1\n",
    "n_1000g = len(individuals)\n",
    "n_jewish = tsne_proj.shape[0] - n_hrs - n_1000g"
   ]
  },
  {
   "cell_type": "code",
   "execution_count": 126,
   "metadata": {
    "collapsed": true
   },
   "outputs": [],
   "source": [
    "# Generate t-SNE projection\n",
    "tsne_dir = os.path.join(data_dir, 'TSNE_projections_khazar')\n",
    "\n",
    "pc_list = [10]\n",
    "\n",
    "for pc in pc_list:\n",
    "    tsne_proj = TSNE(n_components=2).fit_transform(pca_data_array[:n_hrs+n_1000g,:pc])\n",
    "    #filename = 'TSNE_HRS_1000G_AJ_PC'+str(pc)+'_PLEX30'\n",
    "    #np.savetxt(os.path.join(tsne_dir,filename), tsne_proj)"
   ]
  },
  {
   "cell_type": "code",
   "execution_count": 127,
   "metadata": {
    "scrolled": true
   },
   "outputs": [
    {
     "data": {
      "text/plain": [
       "[<matplotlib.lines.Line2D at 0x1a380154a8>]"
      ]
     },
     "execution_count": 127,
     "metadata": {},
     "output_type": "execute_result"
    },
    {
     "data": {
      "image/png": "[encoded data removed]",
      "text/plain": [
       "<matplotlib.figure.Figure at 0x1a3700b6a0>"
      ]
     },
     "metadata": {},
     "output_type": "display_data"
    }
   ],
   "source": [
    "plt.plot(tsne_proj[:,0], tsne_proj[:,1], '.')"
   ]
  },
  {
   "cell_type": "code",
   "execution_count": 128,
   "metadata": {},
   "outputs": [
    {
     "data": {
      "text/plain": [
       "'/Users/alex/Documents/Ethnicity/test.html'"
      ]
     },
     "execution_count": 128,
     "metadata": {},
     "output_type": "execute_result"
    }
   ],
   "source": [
    "proj_data = np.loadtxt('/Users/alex/Documents/Ethnicity/HRS_1000G_AJ/TSNE_projections_khazar/TSNE_HRS_1000G_AJ_PC10_PLEX30')\n",
    "\n",
    "# Separate the three datasets\n",
    "proj_data_hrs = proj_data[0:n_hrs,:]\n",
    "proj_data_1000g = proj_data[n_hrs:n_hrs+n_1000g,:]\n",
    "proj_data_jewish = proj_data[n_hrs+n_1000g:,:]\n",
    "\n",
    "p = figure(plot_width=1500, plot_height=1200)\n",
    "p.title.text = 'ptitle'\n",
    "\n",
    "# First loop is for HRS data\n",
    "for pop in sorted(eth_proxy_set):\n",
    "    proj_pop = proj_data_hrs[indices_of_population_members_hrs[pop]]\n",
    "    p.circle(proj_pop[:,0], proj_pop[:,1], legend=pop_dict[pop],color=color_dict_hrs[pop])\n",
    "\n",
    "# Second loop is for 1000G data\n",
    "for cont in continents: \n",
    "    for pop in pop_by_continent[cont]:\n",
    "        proj_pop = proj_data_1000g[indices_of_population_members[pop]]\n",
    "        p.circle(proj_pop[:,0], proj_pop[:,1], legend=name_by_code[pop], color=color_dict_1000g[pop])\n",
    "\n",
    "# Third loop is the remaining observations\n",
    "#proj_pop = proj_data_jewish\n",
    "#p.circle(proj_pop[:,0], proj_pop[:,1],legend='Jewish')\n",
    "\n",
    "p.legend.location = \"top_left\"\n",
    "\n",
    "p.legend.click_policy=\"hide\"\n",
    "\n",
    "output_file('test.html',title='test')\n",
    "\n",
    "save(p)"
   ]
  },
  {
   "cell_type": "markdown",
   "metadata": {},
   "source": [
    "# Reference"
   ]
  },
  {
   "cell_type": "markdown",
   "metadata": {},
   "source": [
    "#!/bin/bash\n",
    "\n",
    "#PBS -q sw\n",
    "#PBS -l nodes=1:ppn=4\n",
    "\n",
    "#PBS -l walltime=2:00:00\n",
    "#PBS -N pipeline_merge_HRS1000G_khazar_pca\n",
    "\n",
    "cd /home/adiazpop/Ethnicity/HRS/data\n",
    "\n",
    "plink --bfile khazar3_1-22_maf0.01mind0.035geno0.005 --maf 0.05 --mind 0.1 --geno 0.1 --hwe 1e-6 --make-bed --out khazar\n",
    "\n",
    "sort khazar.bim > khazar_sorted.bim\n",
    "sort merged_1000G_HRS.bim > merged_1000G_HRS_sorted.bim\n",
    "\n",
    "comm -12 merged_1000G_HRS_sorted.bim khazar_sorted.bim > common_snps_HRS_1000G_khazar.txt\n",
    "\n",
    "plink --bfile merged_1000G_HRS --extract common_snps_HRS_1000G_khazar.txt --make-bed --out merged_1000G_HRS_khazar_common\n",
    "plink --bfile khazar --extract common_snps_HRS_1000G_khazar.txt --make-bed --out khazar_common\n",
    "plink --bfile merged_1000G_HRS_khazar_common --bmerge khazar_common --make-bed --out merged_1000G_HRS_khazar\n",
    "\n",
    "plink --bfile merged_1000G_HRS_khazar --pca 50 --out merged_1000G_HRS_khazar_pca\n",
    "\n",
    "exit"
   ]
  }
 ],
 "metadata": {
  "kernelspec": {
   "display_name": "Python 3",
   "language": "python",
   "name": "python3"
  },
  "language_info": {
   "codemirror_mode": {
    "name": "ipython",
    "version": 3
   },
   "file_extension": ".py",
   "mimetype": "text/x-python",
   "name": "python",
   "nbconvert_exporter": "python",
   "pygments_lexer": "ipython3",
   "version": "3.6.3"
  }
 },
 "nbformat": 4,
 "nbformat_minor": 2
}
